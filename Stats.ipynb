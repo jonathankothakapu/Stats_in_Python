{
 "cells": [
  {
   "cell_type": "markdown",
   "id": "509ab946",
   "metadata": {},
   "source": [
    "# Statistics in Python"
   ]
  },
  {
   "cell_type": "markdown",
   "id": "9f1cebce",
   "metadata": {},
   "source": [
    "\n",
    "References:    \n",
    "1.Youtube channel [DataDaft](https://www.youtube.com/watch?v=3mELSEnGBvA&list=PLiC1doDIe9rCYWmH9wIEYEXXaJ4KAi3jc&index=21)    \n",
    "2. https://www.statology.org/binomial-distribution-python/    \n",
    "3. [Markdown guide](https://www.markdownguide.org/basic-syntax/#links)    \n",
    "4. Youtube channel [ACADGILD](https://www.youtube.com/watch?v=TYlWj4JuA7w&list=PLlz0muypSBNZXEDDy7RftBdIJNHEN0t1a)   \n",
    "5. Linear Regression [edureka](https://www.youtube.com/watch?v=E5RjzSK0fvY)   \n",
    "6. My Class notebook\n",
    "\n",
    "\n",
    "\n",
    "Libraries used: numpy, statistics, pandas, matplotlib, scipy, IPython.display (For Images)   "
   ]
  },
  {
   "cell_type": "markdown",
   "id": "8e9b170e",
   "metadata": {},
   "source": [
    "# Topics   \n",
    "1. [**Central Tendency**](#Part-1)    \n",
    "    **Mean, Mode, Median**    \n",
    "    \n",
    "    \n",
    "2. [**Measure of Spread**](#Part-2)     \n",
    "    **Range   \n",
    "     Quartile  \n",
    "     Variance   \n",
    "    Standard Deviation**\n",
    "\n",
    "\n",
    "3. [**Skewness and kurtosis**](#Part-3)   \n",
    "\n",
    "\n",
    "4. [**Linear Regression**](#Linear-Regression)   \n",
    "\n",
    "\n",
    "5. [Probability](#Probability)       \n",
    "    **Uniform Distribution   \n",
    "    Binomial Distribution   \n",
    "    Poisson Distribution   \n",
    "    Normal Distribution**\n",
    "\n",
    "6. [Inferential Statistics](#Inferential-Statistics)     \n",
    "    [Z-Statistic](#Z-statistic)    \n",
    "    [t-statistic](#t-statistic)   \n",
    "    [Hypothesis Testing](#Hypothesis-Testing)\n",
    "\n",
    "\n"
   ]
  },
  {
   "cell_type": "markdown",
   "id": "8eca8674",
   "metadata": {},
   "source": [
    "## Part 1     \n",
    "**Central Tendency**    \n",
    "**Mean, Mode, Median**"
   ]
  },
  {
   "cell_type": "code",
   "execution_count": 1,
   "id": "f6cfe63e",
   "metadata": {},
   "outputs": [],
   "source": [
    "import numpy as np\n",
    "import matplotlib.pyplot as plt\n",
    "\n",
    "#for visualization in Notebook\n",
    "%matplotlib inline "
   ]
  },
  {
   "cell_type": "markdown",
   "id": "541f1f2c",
   "metadata": {},
   "source": [
    "**Take a random set**"
   ]
  },
  {
   "cell_type": "code",
   "execution_count": 2,
   "id": "ddd00cd5",
   "metadata": {},
   "outputs": [],
   "source": [
    "s = np.random.randint(5,11,20)"
   ]
  },
  {
   "cell_type": "code",
   "execution_count": 3,
   "id": "3b700fb4",
   "metadata": {},
   "outputs": [
    {
     "data": {
      "text/plain": [
       "array([ 7,  7, 10,  8, 10,  7,  7,  7,  7,  6,  7,  7, 10,  9, 10,  9,  7,\n",
       "        8,  9,  6])"
      ]
     },
     "execution_count": 3,
     "metadata": {},
     "output_type": "execute_result"
    }
   ],
   "source": [
    "s"
   ]
  },
  {
   "cell_type": "markdown",
   "id": "51e883e3",
   "metadata": {},
   "source": [
    "**Mean**"
   ]
  },
  {
   "cell_type": "code",
   "execution_count": 4,
   "id": "d6c339cd",
   "metadata": {},
   "outputs": [
    {
     "data": {
      "text/plain": [
       "7.9"
      ]
     },
     "execution_count": 4,
     "metadata": {},
     "output_type": "execute_result"
    }
   ],
   "source": [
    "np.mean(s)"
   ]
  },
  {
   "cell_type": "markdown",
   "id": "9089dc9c",
   "metadata": {},
   "source": [
    "**Median**"
   ]
  },
  {
   "cell_type": "code",
   "execution_count": 5,
   "id": "8f47c5ec",
   "metadata": {},
   "outputs": [
    {
     "data": {
      "text/plain": [
       "7.0"
      ]
     },
     "execution_count": 5,
     "metadata": {},
     "output_type": "execute_result"
    }
   ],
   "source": [
    "np.median(s)"
   ]
  },
  {
   "cell_type": "code",
   "execution_count": 6,
   "id": "48eb21c2",
   "metadata": {},
   "outputs": [
    {
     "data": {
      "text/plain": [
       "array([ 6,  6,  7,  7,  7,  7,  7,  7,  7,  7,  7,  8,  8,  9,  9,  9, 10,\n",
       "       10, 10, 10])"
      ]
     },
     "execution_count": 6,
     "metadata": {},
     "output_type": "execute_result"
    }
   ],
   "source": [
    "s.sort() # not needed, but if you want to sort\n",
    "s"
   ]
  },
  {
   "cell_type": "markdown",
   "id": "5d163d84",
   "metadata": {},
   "source": [
    "**Mode**"
   ]
  },
  {
   "cell_type": "code",
   "execution_count": 7,
   "id": "8fca107b",
   "metadata": {},
   "outputs": [
    {
     "data": {
      "text/plain": [
       "7"
      ]
     },
     "execution_count": 7,
     "metadata": {},
     "output_type": "execute_result"
    }
   ],
   "source": [
    "# No mode function in matplotlib\n",
    "from statistics import mode\n",
    "mode(s)"
   ]
  },
  {
   "cell_type": "code",
   "execution_count": 8,
   "id": "8c16ff9b",
   "metadata": {},
   "outputs": [
    {
     "data": {
      "image/png": "[encoded data removed]",
      "text/plain": [
       "<Figure size 432x288 with 1 Axes>"
      ]
     },
     "metadata": {
      "needs_background": "light"
     },
     "output_type": "display_data"
    }
   ],
   "source": [
    "plt.hist(s)\n",
    "plt.show()"
   ]
  },
  {
   "cell_type": "markdown",
   "id": "f718e8a0",
   "metadata": {},
   "source": [
    "### Populaltion and Sample"
   ]
  },
  {
   "cell_type": "code",
   "execution_count": 9,
   "id": "ddbc1a89",
   "metadata": {},
   "outputs": [
    {
     "data": {
      "text/plain": [
       "array([ 56,  94,  84,   3,  47,  47,  19,  66,   9,  97,  77,  59,  10,\n",
       "        33,  59,  39,  32,   3,  59,  45,  32,  46,  72,   1,  10,  38,\n",
       "        49, 100,  59,  43,  25,  20,  41,  17,  31,  60,  85,  19,  88,\n",
       "        98,  86,  42,  84,  77,  28,  23,  12,  15,  36,  70,  30,  38,\n",
       "        81,  12,  55,  91,   1,  38,  58,  98,  23,  66,   1,  72,   1,\n",
       "        89,  56,  76,  82,  58,  74,  61,  95,  83,  73,  29,   5,  52,\n",
       "        19,  97,  85,  99,  15,   3,  26,   6,  52,  55,  11,  25,   1,\n",
       "        61,  99,  45,  76,  60,  59,  62,  75,  18])"
      ]
     },
     "execution_count": 9,
     "metadata": {},
     "output_type": "execute_result"
    }
   ],
   "source": [
    "pop = np.random.randint(1,101,100)\n",
    "pop"
   ]
  },
  {
   "cell_type": "code",
   "execution_count": 10,
   "id": "0eff0d85",
   "metadata": {},
   "outputs": [
    {
     "data": {
      "text/plain": [
       "48.92"
      ]
     },
     "execution_count": 10,
     "metadata": {},
     "output_type": "execute_result"
    }
   ],
   "source": [
    "# Mean\n",
    "np.mean(pop)"
   ]
  },
  {
   "cell_type": "code",
   "execution_count": 11,
   "id": "417dc0b7",
   "metadata": {},
   "outputs": [
    {
     "data": {
      "text/plain": [
       "50.5"
      ]
     },
     "execution_count": 11,
     "metadata": {},
     "output_type": "execute_result"
    }
   ],
   "source": [
    "# Median\n",
    "np.median(pop)"
   ]
  },
  {
   "cell_type": "code",
   "execution_count": 12,
   "id": "90be0ade",
   "metadata": {},
   "outputs": [
    {
     "data": {
      "text/plain": [
       "59"
      ]
     },
     "execution_count": 12,
     "metadata": {},
     "output_type": "execute_result"
    }
   ],
   "source": [
    "# Mode\n",
    "from statistics import mode\n",
    "mode(pop)"
   ]
  },
  {
   "cell_type": "markdown",
   "id": "30bec001",
   "metadata": {},
   "source": [
    "**Sample**"
   ]
  },
  {
   "cell_type": "code",
   "execution_count": 13,
   "id": "d93a48d9",
   "metadata": {},
   "outputs": [
    {
     "data": {
      "text/plain": [
       "array([ 55,  56,  72,   1,  47,  85,  23,  60,  49,  19,  58,  81,  52,\n",
       "        52,  19,  19,  99,   3,  52, 100,  47,  97,   1,  41,  74,  25,\n",
       "        66,  32,   1,   9])"
      ]
     },
     "execution_count": 13,
     "metadata": {},
     "output_type": "execute_result"
    }
   ],
   "source": [
    "sample = np.random.choice(pop, 30)\n",
    "sample"
   ]
  },
  {
   "cell_type": "code",
   "execution_count": 14,
   "id": "0f79f3e7",
   "metadata": {},
   "outputs": [
    {
     "data": {
      "text/plain": [
       "46.5"
      ]
     },
     "execution_count": 14,
     "metadata": {},
     "output_type": "execute_result"
    }
   ],
   "source": [
    "# Sample mean\n",
    "np.mean(sample)"
   ]
  },
  {
   "cell_type": "code",
   "execution_count": 15,
   "id": "d3d526b8",
   "metadata": {},
   "outputs": [
    {
     "data": {
      "text/plain": [
       "50.5"
      ]
     },
     "execution_count": 15,
     "metadata": {},
     "output_type": "execute_result"
    }
   ],
   "source": [
    "# Sample Median\n",
    "np.median(sample)"
   ]
  },
  {
   "cell_type": "code",
   "execution_count": 16,
   "id": "8bdd9ac1",
   "metadata": {},
   "outputs": [
    {
     "data": {
      "text/plain": [
       "1"
      ]
     },
     "execution_count": 16,
     "metadata": {},
     "output_type": "execute_result"
    }
   ],
   "source": [
    "mode(sample)"
   ]
  },
  {
   "cell_type": "markdown",
   "id": "b09b9b7c",
   "metadata": {},
   "source": [
    "**Choosing random samples from pop of fixed size (here, size 30)**"
   ]
  },
  {
   "cell_type": "code",
   "execution_count": 17,
   "id": "1859af1d",
   "metadata": {},
   "outputs": [],
   "source": [
    "sample_1 = np.random.choice(pop, 30)\n",
    "sample_2 = np.random.choice(pop, 30)\n",
    "sample_3 = np.random.choice(pop, 30)\n",
    "sample_4 = np.random.choice(pop, 30)"
   ]
  },
  {
   "cell_type": "markdown",
   "id": "b27645c4",
   "metadata": {},
   "source": [
    "***Sampling of Sample mean***"
   ]
  },
  {
   "cell_type": "code",
   "execution_count": 18,
   "id": "5175d3b6",
   "metadata": {},
   "outputs": [],
   "source": [
    "all_samples = [sample, sample_1, sample_2, sample_3, sample_4]\n",
    "sample_mean = []\n",
    "for i in all_samples:\n",
    "    sample_mean.append(round(np.mean(i),3))\n",
    "    "
   ]
  },
  {
   "cell_type": "code",
   "execution_count": 19,
   "id": "2f5609e1",
   "metadata": {},
   "outputs": [
    {
     "data": {
      "text/plain": [
       "[46.5, 46.567, 40.667, 45.367, 52.133]"
      ]
     },
     "execution_count": 19,
     "metadata": {},
     "output_type": "execute_result"
    }
   ],
   "source": [
    "sample_mean"
   ]
  },
  {
   "cell_type": "markdown",
   "id": "18016759",
   "metadata": {},
   "source": [
    "***Mean of samples comapred to Population***"
   ]
  },
  {
   "cell_type": "code",
   "execution_count": 20,
   "id": "6b0f3d6b",
   "metadata": {},
   "outputs": [
    {
     "data": {
      "text/plain": [
       "48.92"
      ]
     },
     "execution_count": 20,
     "metadata": {},
     "output_type": "execute_result"
    }
   ],
   "source": [
    "np.mean(pop)"
   ]
  },
  {
   "cell_type": "code",
   "execution_count": 21,
   "id": "07728eff",
   "metadata": {},
   "outputs": [
    {
     "data": {
      "text/plain": [
       "46.2468"
      ]
     },
     "execution_count": 21,
     "metadata": {},
     "output_type": "execute_result"
    }
   ],
   "source": [
    "np.mean(sample_mean)"
   ]
  },
  {
   "cell_type": "markdown",
   "id": "9bda5e3b",
   "metadata": {},
   "source": [
    "# Part 2"
   ]
  },
  {
   "cell_type": "markdown",
   "id": "a038e770",
   "metadata": {},
   "source": [
    "**Measure of Spread**     \n",
    "**1. Range**   \n",
    "**2. Quartile**   \n",
    "**3. Variance**   \n",
    "**4. Standard Deviation**\n"
   ]
  },
  {
   "cell_type": "code",
   "execution_count": 22,
   "id": "d048942b",
   "metadata": {},
   "outputs": [
    {
     "data": {
      "text/plain": [
       "array([ 6,  6,  7,  7,  7,  7,  7,  7,  7,  7,  7,  8,  8,  9,  9,  9, 10,\n",
       "       10, 10, 10])"
      ]
     },
     "execution_count": 22,
     "metadata": {},
     "output_type": "execute_result"
    }
   ],
   "source": [
    "s"
   ]
  },
  {
   "cell_type": "markdown",
   "id": "538131c5",
   "metadata": {},
   "source": [
    "**1. Range**"
   ]
  },
  {
   "cell_type": "code",
   "execution_count": 23,
   "id": "5628fed9",
   "metadata": {},
   "outputs": [
    {
     "data": {
      "text/plain": [
       "4"
      ]
     },
     "execution_count": 23,
     "metadata": {},
     "output_type": "execute_result"
    }
   ],
   "source": [
    "#Range\n",
    "s.max() - s.min()"
   ]
  },
  {
   "cell_type": "code",
   "execution_count": 24,
   "id": "29791407",
   "metadata": {},
   "outputs": [
    {
     "data": {
      "text/plain": [
       "4"
      ]
     },
     "execution_count": 24,
     "metadata": {},
     "output_type": "execute_result"
    }
   ],
   "source": [
    "#using numpy\n",
    "np.max(s)-np.min(s)"
   ]
  },
  {
   "cell_type": "markdown",
   "id": "269bacd7",
   "metadata": {},
   "source": [
    "**2. Quartile**"
   ]
  },
  {
   "cell_type": "code",
   "execution_count": 25,
   "id": "a586ab30",
   "metadata": {},
   "outputs": [
    {
     "data": {
      "text/plain": [
       "7.0"
      ]
     },
     "execution_count": 25,
     "metadata": {},
     "output_type": "execute_result"
    }
   ],
   "source": [
    "#First Quartile\n",
    "Q1 = np.percentile(s,25)\n",
    "Q1"
   ]
  },
  {
   "cell_type": "code",
   "execution_count": 26,
   "id": "141cc9a8",
   "metadata": {},
   "outputs": [
    {
     "data": {
      "text/plain": [
       "7.0"
      ]
     },
     "execution_count": 26,
     "metadata": {},
     "output_type": "execute_result"
    }
   ],
   "source": [
    "Q2 = np.percentile(s,50)\n",
    "Q2"
   ]
  },
  {
   "cell_type": "code",
   "execution_count": 27,
   "id": "8a4ac898",
   "metadata": {},
   "outputs": [
    {
     "data": {
      "text/plain": [
       "9.0"
      ]
     },
     "execution_count": 27,
     "metadata": {},
     "output_type": "execute_result"
    }
   ],
   "source": [
    "Q3 = np.percentile(s,75)\n",
    "Q3"
   ]
  },
  {
   "cell_type": "markdown",
   "id": "d59ba6c1",
   "metadata": {},
   "source": [
    "**3. Inter-Quartile Range**   \n",
    "IQR = Q3 - Q1"
   ]
  },
  {
   "cell_type": "code",
   "execution_count": 28,
   "id": "aae1bd99",
   "metadata": {},
   "outputs": [
    {
     "data": {
      "text/plain": [
       "2.0"
      ]
     },
     "execution_count": 28,
     "metadata": {},
     "output_type": "execute_result"
    }
   ],
   "source": [
    "IQR = Q3 - Q1\n",
    "IQR"
   ]
  },
  {
   "cell_type": "code",
   "execution_count": 29,
   "id": "5d11c3de",
   "metadata": {},
   "outputs": [
    {
     "data": {
      "image/png": "[encoded data removed]",
      "text/plain": [
       "<Figure size 432x288 with 1 Axes>"
      ]
     },
     "metadata": {
      "needs_background": "light"
     },
     "output_type": "display_data"
    }
   ],
   "source": [
    "#Boxplot\n",
    "plt.boxplot(s)\n",
    "plt.show()"
   ]
  },
  {
   "cell_type": "markdown",
   "id": "4f4c7292",
   "metadata": {},
   "source": [
    "**4. Variance**   \n",
    "We have to use Unbiased Estimator (n-1) for sample   \n",
    "Refer for Unbiased Estimator: https://www.youtube.com/watch?v=D1hgiAla3KI   "
   ]
  },
  {
   "cell_type": "code",
   "execution_count": 30,
   "id": "20880814",
   "metadata": {},
   "outputs": [
    {
     "data": {
      "text/plain": [
       "array([ 56,  94,  84,   3,  47,  47,  19,  66,   9,  97,  77,  59,  10,\n",
       "        33,  59,  39,  32,   3,  59,  45,  32,  46,  72,   1,  10,  38,\n",
       "        49, 100,  59,  43,  25,  20,  41,  17,  31,  60,  85,  19,  88,\n",
       "        98,  86,  42,  84,  77,  28,  23,  12,  15,  36,  70,  30,  38,\n",
       "        81,  12,  55,  91,   1,  38,  58,  98,  23,  66,   1,  72,   1,\n",
       "        89,  56,  76,  82,  58,  74,  61,  95,  83,  73,  29,   5,  52,\n",
       "        19,  97,  85,  99,  15,   3,  26,   6,  52,  55,  11,  25,   1,\n",
       "        61,  99,  45,  76,  60,  59,  62,  75,  18])"
      ]
     },
     "execution_count": 30,
     "metadata": {},
     "output_type": "execute_result"
    }
   ],
   "source": [
    "pop"
   ]
  },
  {
   "cell_type": "code",
   "execution_count": 31,
   "id": "9d0f2d91",
   "metadata": {},
   "outputs": [
    {
     "data": {
      "text/plain": [
       "array([ 55,  56,  72,   1,  47,  85,  23,  60,  49,  19,  58,  81,  52,\n",
       "        52,  19,  19,  99,   3,  52, 100,  47,  97,   1,  41,  74,  25,\n",
       "        66,  32,   1,   9])"
      ]
     },
     "execution_count": 31,
     "metadata": {},
     "output_type": "execute_result"
    }
   ],
   "source": [
    "# Sample is taken from pop\n",
    "sample"
   ]
  },
  {
   "cell_type": "code",
   "execution_count": 32,
   "id": "5afcb26f",
   "metadata": {},
   "outputs": [
    {
     "data": {
      "text/plain": [
       "887.8336000000002"
      ]
     },
     "execution_count": 32,
     "metadata": {},
     "output_type": "execute_result"
    }
   ],
   "source": [
    "#by default var() calculates for population\n",
    "np.var(pop)"
   ]
  },
  {
   "cell_type": "code",
   "execution_count": 33,
   "id": "993ceba4",
   "metadata": {},
   "outputs": [
    {
     "data": {
      "text/plain": [
       "904.6724137931035"
      ]
     },
     "execution_count": 33,
     "metadata": {},
     "output_type": "execute_result"
    }
   ],
   "source": [
    "# use ddof=1, for sample\n",
    "#Refer:  https://machinelearningmastery.com/introduction-to-expected-value-variance-and-covariance/\n",
    "np.var(sample, ddof=1)"
   ]
  },
  {
   "cell_type": "markdown",
   "id": "199e4326",
   "metadata": {},
   "source": [
    "**4. Standard Deviation**"
   ]
  },
  {
   "cell_type": "code",
   "execution_count": 34,
   "id": "cb5aaa16",
   "metadata": {},
   "outputs": [
    {
     "data": {
      "text/plain": [
       "29.796536711503908"
      ]
     },
     "execution_count": 34,
     "metadata": {},
     "output_type": "execute_result"
    }
   ],
   "source": [
    "# for population\n",
    "np.std(pop)"
   ]
  },
  {
   "cell_type": "code",
   "execution_count": 35,
   "id": "3eea1c02",
   "metadata": {},
   "outputs": [
    {
     "data": {
      "text/plain": [
       "30.077772753199387"
      ]
     },
     "execution_count": 35,
     "metadata": {},
     "output_type": "execute_result"
    }
   ],
   "source": [
    "# for sample\n",
    "np.std(sample, ddof=1)"
   ]
  },
  {
   "cell_type": "markdown",
   "id": "73cf8026",
   "metadata": {},
   "source": [
    "# Part 3"
   ]
  },
  {
   "cell_type": "markdown",
   "id": "e32e1eaa",
   "metadata": {},
   "source": [
    "**1. Descritptive stats using a dataframe**    \n",
    "*Using pandas*   \n",
    "**2. Skewness and Kurtosis**"
   ]
  },
  {
   "cell_type": "code",
   "execution_count": 36,
   "id": "a0e1bbdd",
   "metadata": {},
   "outputs": [],
   "source": [
    "import pandas as pd"
   ]
  },
  {
   "cell_type": "code",
   "execution_count": 37,
   "id": "5b1764ff",
   "metadata": {},
   "outputs": [
    {
     "data": {
      "text/html": [
       "<div>\n",
       "<style scoped>\n",
       "    .dataframe tbody tr th:only-of-type {\n",
       "        vertical-align: middle;\n",
       "    }\n",
       "\n",
       "    .dataframe tbody tr th {\n",
       "        vertical-align: top;\n",
       "    }\n",
       "\n",
       "    .dataframe thead th {\n",
       "        text-align: right;\n",
       "    }\n",
       "</style>\n",
       "<table border=\"1\" class=\"dataframe\">\n",
       "  <thead>\n",
       "    <tr style=\"text-align: right;\">\n",
       "      <th></th>\n",
       "      <th>id</th>\n",
       "      <th>age</th>\n",
       "      <th>Height</th>\n",
       "    </tr>\n",
       "  </thead>\n",
       "  <tbody>\n",
       "    <tr>\n",
       "      <th>0</th>\n",
       "      <td>0</td>\n",
       "      <td>12</td>\n",
       "      <td>48</td>\n",
       "    </tr>\n",
       "    <tr>\n",
       "      <th>1</th>\n",
       "      <td>1</td>\n",
       "      <td>13</td>\n",
       "      <td>47</td>\n",
       "    </tr>\n",
       "    <tr>\n",
       "      <th>2</th>\n",
       "      <td>2</td>\n",
       "      <td>14</td>\n",
       "      <td>70</td>\n",
       "    </tr>\n",
       "    <tr>\n",
       "      <th>3</th>\n",
       "      <td>3</td>\n",
       "      <td>14</td>\n",
       "      <td>60</td>\n",
       "    </tr>\n",
       "    <tr>\n",
       "      <th>4</th>\n",
       "      <td>4</td>\n",
       "      <td>15</td>\n",
       "      <td>47</td>\n",
       "    </tr>\n",
       "    <tr>\n",
       "      <th>5</th>\n",
       "      <td>5</td>\n",
       "      <td>16</td>\n",
       "      <td>70</td>\n",
       "    </tr>\n",
       "    <tr>\n",
       "      <th>6</th>\n",
       "      <td>6</td>\n",
       "      <td>16</td>\n",
       "      <td>65</td>\n",
       "    </tr>\n",
       "    <tr>\n",
       "      <th>7</th>\n",
       "      <td>7</td>\n",
       "      <td>16</td>\n",
       "      <td>70</td>\n",
       "    </tr>\n",
       "    <tr>\n",
       "      <th>8</th>\n",
       "      <td>8</td>\n",
       "      <td>17</td>\n",
       "      <td>55</td>\n",
       "    </tr>\n",
       "    <tr>\n",
       "      <th>9</th>\n",
       "      <td>9</td>\n",
       "      <td>18</td>\n",
       "      <td>54</td>\n",
       "    </tr>\n",
       "    <tr>\n",
       "      <th>10</th>\n",
       "      <td>10</td>\n",
       "      <td>19</td>\n",
       "      <td>50</td>\n",
       "    </tr>\n",
       "    <tr>\n",
       "      <th>11</th>\n",
       "      <td>11</td>\n",
       "      <td>20</td>\n",
       "      <td>64</td>\n",
       "    </tr>\n",
       "  </tbody>\n",
       "</table>\n",
       "</div>"
      ],
      "text/plain": [
       "    id  age  Height\n",
       "0    0   12      48\n",
       "1    1   13      47\n",
       "2    2   14      70\n",
       "3    3   14      60\n",
       "4    4   15      47\n",
       "5    5   16      70\n",
       "6    6   16      65\n",
       "7    7   16      70\n",
       "8    8   17      55\n",
       "9    9   18      54\n",
       "10  10   19      50\n",
       "11  11   20      64"
      ]
     },
     "execution_count": 37,
     "metadata": {},
     "output_type": "execute_result"
    }
   ],
   "source": [
    "df = pd.DataFrame(dict(id=range(12), age=(12, 13, 14, 14, 15, 16, 16, 16, 17, 18, 19, 20), Height=(48,47,70,60,47,70, 65, 70, 55, 54,50, 64)))\n",
    "df1 = df\n",
    "df1"
   ]
  },
  {
   "cell_type": "code",
   "execution_count": 38,
   "id": "0fa93258",
   "metadata": {},
   "outputs": [
    {
     "data": {
      "text/plain": [
       "15.833333333333334"
      ]
     },
     "execution_count": 38,
     "metadata": {},
     "output_type": "execute_result"
    }
   ],
   "source": [
    "#Mean\n",
    "df1.age.mean()"
   ]
  },
  {
   "cell_type": "code",
   "execution_count": 39,
   "id": "d28dd67e",
   "metadata": {},
   "outputs": [
    {
     "data": {
      "text/plain": [
       "15.833333333333334"
      ]
     },
     "execution_count": 39,
     "metadata": {},
     "output_type": "execute_result"
    }
   ],
   "source": [
    "df1[\"age\"].mean() "
   ]
  },
  {
   "cell_type": "code",
   "execution_count": 40,
   "id": "317f7f05",
   "metadata": {},
   "outputs": [
    {
     "data": {
      "text/plain": [
       "id         5.500000\n",
       "age       15.833333\n",
       "Height    58.333333\n",
       "dtype: float64"
      ]
     },
     "execution_count": 40,
     "metadata": {},
     "output_type": "execute_result"
    }
   ],
   "source": [
    "#Gives mean for all columns\n",
    "df1.mean()"
   ]
  },
  {
   "cell_type": "code",
   "execution_count": 41,
   "id": "83a82049",
   "metadata": {},
   "outputs": [
    {
     "data": {
      "text/plain": [
       "16.0"
      ]
     },
     "execution_count": 41,
     "metadata": {},
     "output_type": "execute_result"
    }
   ],
   "source": [
    "#Median\n",
    "df1.age.median()"
   ]
  },
  {
   "cell_type": "code",
   "execution_count": 42,
   "id": "40f56311",
   "metadata": {},
   "outputs": [
    {
     "data": {
      "text/plain": [
       "0    16\n",
       "dtype: int64"
      ]
     },
     "execution_count": 42,
     "metadata": {},
     "output_type": "execute_result"
    }
   ],
   "source": [
    "#from pandas lib\n",
    "df1.age.mode()"
   ]
  },
  {
   "cell_type": "code",
   "execution_count": 43,
   "id": "c948a4c4",
   "metadata": {},
   "outputs": [
    {
     "data": {
      "text/plain": [
       "5.787878787878788"
      ]
     },
     "execution_count": 43,
     "metadata": {},
     "output_type": "execute_result"
    }
   ],
   "source": [
    "#Variance\n",
    "df1.age.var()"
   ]
  },
  {
   "cell_type": "code",
   "execution_count": 44,
   "id": "01770c59",
   "metadata": {},
   "outputs": [
    {
     "data": {
      "text/plain": [
       "2.4058010698889443"
      ]
     },
     "execution_count": 44,
     "metadata": {},
     "output_type": "execute_result"
    }
   ],
   "source": [
    "#Standard Deviation\n",
    "df1.age.std()"
   ]
  },
  {
   "cell_type": "code",
   "execution_count": 45,
   "id": "b0a7e403",
   "metadata": {},
   "outputs": [
    {
     "data": {
      "text/plain": [
       "<AxesSubplot:>"
      ]
     },
     "execution_count": 45,
     "metadata": {},
     "output_type": "execute_result"
    },
    {
     "data": {
      "image/png": "[encoded data removed]",
      "text/plain": [
       "<Figure size 432x288 with 1 Axes>"
      ]
     },
     "metadata": {
      "needs_background": "light"
     },
     "output_type": "display_data"
    }
   ],
   "source": [
    "df1.boxplot(column = \"age\", return_type=\"axes\", showmeans=True )"
   ]
  },
  {
   "cell_type": "markdown",
   "id": "8fe2bc8c",
   "metadata": {},
   "source": [
    "**2. Skewness and Kurtosis**"
   ]
  },
  {
   "cell_type": "code",
   "execution_count": 46,
   "id": "72c84cea",
   "metadata": {},
   "outputs": [
    {
     "data": {
      "image/png": "[encoded data removed]",
      "text/plain": [
       "<IPython.core.display.Image object>"
      ]
     },
     "execution_count": 46,
     "metadata": {},
     "output_type": "execute_result"
    }
   ],
   "source": [
    "from IPython.display import Image\n",
    "Image(filename = 'Skew_Kurt.png')"
   ]
  },
  {
   "cell_type": "code",
   "execution_count": 47,
   "id": "3ae950d0",
   "metadata": {},
   "outputs": [
    {
     "data": {
      "text/plain": [
       "0.18715669626229528"
      ]
     },
     "execution_count": 47,
     "metadata": {},
     "output_type": "execute_result"
    }
   ],
   "source": [
    "#Skewness\n",
    "df1[\"age\"].skew()"
   ]
  },
  {
   "cell_type": "code",
   "execution_count": 48,
   "id": "e799af2f",
   "metadata": {},
   "outputs": [
    {
     "data": {
      "text/plain": [
       "-0.6028124229050746"
      ]
     },
     "execution_count": 48,
     "metadata": {},
     "output_type": "execute_result"
    }
   ],
   "source": [
    "#Kurtosis\n",
    "df1[\"age\"].kurt()"
   ]
  },
  {
   "cell_type": "markdown",
   "id": "3506c874",
   "metadata": {},
   "source": [
    "**Correlation**"
   ]
  },
  {
   "cell_type": "code",
   "execution_count": 49,
   "id": "6a725249",
   "metadata": {},
   "outputs": [
    {
     "data": {
      "text/html": [
       "<div>\n",
       "<style scoped>\n",
       "    .dataframe tbody tr th:only-of-type {\n",
       "        vertical-align: middle;\n",
       "    }\n",
       "\n",
       "    .dataframe tbody tr th {\n",
       "        vertical-align: top;\n",
       "    }\n",
       "\n",
       "    .dataframe thead th {\n",
       "        text-align: right;\n",
       "    }\n",
       "</style>\n",
       "<table border=\"1\" class=\"dataframe\">\n",
       "  <thead>\n",
       "    <tr style=\"text-align: right;\">\n",
       "      <th></th>\n",
       "      <th>id</th>\n",
       "      <th>age</th>\n",
       "      <th>Height</th>\n",
       "    </tr>\n",
       "  </thead>\n",
       "  <tbody>\n",
       "    <tr>\n",
       "      <th>id</th>\n",
       "      <td>1.000000</td>\n",
       "      <td>0.985153</td>\n",
       "      <td>0.176291</td>\n",
       "    </tr>\n",
       "    <tr>\n",
       "      <th>age</th>\n",
       "      <td>0.985153</td>\n",
       "      <td>1.000000</td>\n",
       "      <td>0.185622</td>\n",
       "    </tr>\n",
       "    <tr>\n",
       "      <th>Height</th>\n",
       "      <td>0.176291</td>\n",
       "      <td>0.185622</td>\n",
       "      <td>1.000000</td>\n",
       "    </tr>\n",
       "  </tbody>\n",
       "</table>\n",
       "</div>"
      ],
      "text/plain": [
       "              id       age    Height\n",
       "id      1.000000  0.985153  0.176291\n",
       "age     0.985153  1.000000  0.185622\n",
       "Height  0.176291  0.185622  1.000000"
      ]
     },
     "execution_count": 49,
     "metadata": {},
     "output_type": "execute_result"
    }
   ],
   "source": [
    "#From pandas lib\n",
    "#default is Pearson\n",
    "df1.corr()"
   ]
  },
  {
   "cell_type": "code",
   "execution_count": 50,
   "id": "e201a9d0",
   "metadata": {},
   "outputs": [
    {
     "data": {
      "text/html": [
       "<div>\n",
       "<style scoped>\n",
       "    .dataframe tbody tr th:only-of-type {\n",
       "        vertical-align: middle;\n",
       "    }\n",
       "\n",
       "    .dataframe tbody tr th {\n",
       "        vertical-align: top;\n",
       "    }\n",
       "\n",
       "    .dataframe thead th {\n",
       "        text-align: right;\n",
       "    }\n",
       "</style>\n",
       "<table border=\"1\" class=\"dataframe\">\n",
       "  <thead>\n",
       "    <tr style=\"text-align: right;\">\n",
       "      <th></th>\n",
       "      <th>id</th>\n",
       "      <th>age</th>\n",
       "      <th>Height</th>\n",
       "    </tr>\n",
       "  </thead>\n",
       "  <tbody>\n",
       "    <tr>\n",
       "      <th>id</th>\n",
       "      <td>1.000000</td>\n",
       "      <td>0.969223</td>\n",
       "      <td>0.062531</td>\n",
       "    </tr>\n",
       "    <tr>\n",
       "      <th>age</th>\n",
       "      <td>0.969223</td>\n",
       "      <td>1.000000</td>\n",
       "      <td>0.080645</td>\n",
       "    </tr>\n",
       "    <tr>\n",
       "      <th>Height</th>\n",
       "      <td>0.062531</td>\n",
       "      <td>0.080645</td>\n",
       "      <td>1.000000</td>\n",
       "    </tr>\n",
       "  </tbody>\n",
       "</table>\n",
       "</div>"
      ],
      "text/plain": [
       "              id       age    Height\n",
       "id      1.000000  0.969223  0.062531\n",
       "age     0.969223  1.000000  0.080645\n",
       "Height  0.062531  0.080645  1.000000"
      ]
     },
     "execution_count": 50,
     "metadata": {},
     "output_type": "execute_result"
    }
   ],
   "source": [
    "# Kendall Correlation\n",
    "df1.corr(method='kendall')"
   ]
  },
  {
   "cell_type": "code",
   "execution_count": 51,
   "id": "26650f3f",
   "metadata": {},
   "outputs": [
    {
     "data": {
      "text/html": [
       "<div>\n",
       "<style scoped>\n",
       "    .dataframe tbody tr th:only-of-type {\n",
       "        vertical-align: middle;\n",
       "    }\n",
       "\n",
       "    .dataframe tbody tr th {\n",
       "        vertical-align: top;\n",
       "    }\n",
       "\n",
       "    .dataframe thead th {\n",
       "        text-align: right;\n",
       "    }\n",
       "</style>\n",
       "<table border=\"1\" class=\"dataframe\">\n",
       "  <thead>\n",
       "    <tr style=\"text-align: right;\">\n",
       "      <th></th>\n",
       "      <th>id</th>\n",
       "      <th>age</th>\n",
       "      <th>Height</th>\n",
       "    </tr>\n",
       "  </thead>\n",
       "  <tbody>\n",
       "    <tr>\n",
       "      <th>id</th>\n",
       "      <td>1.000000</td>\n",
       "      <td>0.991220</td>\n",
       "      <td>0.201066</td>\n",
       "    </tr>\n",
       "    <tr>\n",
       "      <th>age</th>\n",
       "      <td>0.991220</td>\n",
       "      <td>1.000000</td>\n",
       "      <td>0.217082</td>\n",
       "    </tr>\n",
       "    <tr>\n",
       "      <th>Height</th>\n",
       "      <td>0.201066</td>\n",
       "      <td>0.217082</td>\n",
       "      <td>1.000000</td>\n",
       "    </tr>\n",
       "  </tbody>\n",
       "</table>\n",
       "</div>"
      ],
      "text/plain": [
       "              id       age    Height\n",
       "id      1.000000  0.991220  0.201066\n",
       "age     0.991220  1.000000  0.217082\n",
       "Height  0.201066  0.217082  1.000000"
      ]
     },
     "execution_count": 51,
     "metadata": {},
     "output_type": "execute_result"
    }
   ],
   "source": [
    "#Spearman\n",
    "df1.corr(method='spearman')"
   ]
  },
  {
   "cell_type": "markdown",
   "id": "cffd049f",
   "metadata": {},
   "source": [
    "# Linear Regression"
   ]
  },
  {
   "cell_type": "code",
   "execution_count": 52,
   "id": "403ce96d",
   "metadata": {},
   "outputs": [
    {
     "data": {
      "text/html": [
       "<div>\n",
       "<style scoped>\n",
       "    .dataframe tbody tr th:only-of-type {\n",
       "        vertical-align: middle;\n",
       "    }\n",
       "\n",
       "    .dataframe tbody tr th {\n",
       "        vertical-align: top;\n",
       "    }\n",
       "\n",
       "    .dataframe thead th {\n",
       "        text-align: right;\n",
       "    }\n",
       "</style>\n",
       "<table border=\"1\" class=\"dataframe\">\n",
       "  <thead>\n",
       "    <tr style=\"text-align: right;\">\n",
       "      <th></th>\n",
       "      <th>Quarter</th>\n",
       "      <th>Promo_Budget</th>\n",
       "      <th>Sales</th>\n",
       "    </tr>\n",
       "  </thead>\n",
       "  <tbody>\n",
       "    <tr>\n",
       "      <th>0</th>\n",
       "      <td>1</td>\n",
       "      <td>92</td>\n",
       "      <td>150</td>\n",
       "    </tr>\n",
       "    <tr>\n",
       "      <th>1</th>\n",
       "      <td>2</td>\n",
       "      <td>90</td>\n",
       "      <td>145</td>\n",
       "    </tr>\n",
       "    <tr>\n",
       "      <th>2</th>\n",
       "      <td>3</td>\n",
       "      <td>101</td>\n",
       "      <td>159</td>\n",
       "    </tr>\n",
       "    <tr>\n",
       "      <th>3</th>\n",
       "      <td>4</td>\n",
       "      <td>117</td>\n",
       "      <td>172</td>\n",
       "    </tr>\n",
       "    <tr>\n",
       "      <th>4</th>\n",
       "      <td>5</td>\n",
       "      <td>115</td>\n",
       "      <td>163</td>\n",
       "    </tr>\n",
       "    <tr>\n",
       "      <th>5</th>\n",
       "      <td>6</td>\n",
       "      <td>106</td>\n",
       "      <td>146</td>\n",
       "    </tr>\n",
       "    <tr>\n",
       "      <th>6</th>\n",
       "      <td>7</td>\n",
       "      <td>110</td>\n",
       "      <td>155</td>\n",
       "    </tr>\n",
       "    <tr>\n",
       "      <th>7</th>\n",
       "      <td>8</td>\n",
       "      <td>119</td>\n",
       "      <td>170</td>\n",
       "    </tr>\n",
       "  </tbody>\n",
       "</table>\n",
       "</div>"
      ],
      "text/plain": [
       "   Quarter  Promo_Budget  Sales\n",
       "0        1            92    150\n",
       "1        2            90    145\n",
       "2        3           101    159\n",
       "3        4           117    172\n",
       "4        5           115    163\n",
       "5        6           106    146\n",
       "6        7           110    155\n",
       "7        8           119    170"
      ]
     },
     "execution_count": 52,
     "metadata": {},
     "output_type": "execute_result"
    }
   ],
   "source": [
    "df3 = pd.DataFrame(dict(Quarter=range(1,9,1), Promo_Budget=(92, 90, 101, 117, 115, 106, 110, 119), Sales = (150, 145, 159, 172, 163, 146, 155, 170)))\n",
    "df3"
   ]
  },
  {
   "cell_type": "code",
   "execution_count": 53,
   "id": "717d87ca",
   "metadata": {},
   "outputs": [],
   "source": [
    "# Collecting X and Y values\n",
    "X = df3[\"Promo_Budget\"].values\n",
    "Y = df3[\"Sales\"].values"
   ]
  },
  {
   "cell_type": "code",
   "execution_count": 54,
   "id": "745fdb66",
   "metadata": {},
   "outputs": [],
   "source": [
    "# mean of X and Y\n",
    "x_mean = np.mean(X)\n",
    "y_mean = np.mean(Y)"
   ]
  },
  {
   "cell_type": "code",
   "execution_count": 55,
   "id": "de816c03",
   "metadata": {},
   "outputs": [],
   "source": [
    "#total number of observations\n",
    "n = len(X)"
   ]
  },
  {
   "cell_type": "markdown",
   "id": "2532bc17",
   "metadata": {},
   "source": [
    "## We need to find the slope and intercept\n",
    "Line equation: y = a + b*x       \n",
    "Slope (b) = covariance / variance of x    \n",
    "Intercept (a) =  $\\bar y - b * \\bar x$    \n",
    "\n",
    "Covariance =\\begin{equation}\n",
    "  \\sideset{}{}\\sum_{X=1}(x_i-\\bar x)*(y_i-\\bar y) / n\n",
    "\\end{equation}    \n",
    "\n",
    "Variance = \\begin{equation}\n",
    "  \\sideset{}{}\\sum_{X=1}(x_i-\\bar x)^2 / n\n",
    "\\end{equation}"
   ]
  },
  {
   "cell_type": "code",
   "execution_count": 56,
   "id": "3935ee03",
   "metadata": {},
   "outputs": [
    {
     "name": "stdout",
     "output_type": "stream",
     "text": [
      "Slope is  0.7631731325998842\n",
      "Intercept is  76.4128546612623\n"
     ]
    }
   ],
   "source": [
    "# Using formula to calculate Slope b and Intercept a\n",
    "numer = 0\n",
    "denom = 0\n",
    "for i in range(n):\n",
    "    numer += (X[i]-x_mean)*(Y[i]-y_mean)\n",
    "    denom += (X[i]-x_mean)**2\n",
    "\n",
    "b = numer/denom   #Slope formual but both numerator and denominator has n, which gets cancelled.\n",
    "a = y_mean - b*x_mean\n",
    "\n",
    "print(\"Slope is \",b)\n",
    "print(\"Intercept is \",a)"
   ]
  },
  {
   "cell_type": "code",
   "execution_count": 57,
   "id": "18a5e924",
   "metadata": {},
   "outputs": [
    {
     "data": {
      "text/plain": [
       "82.375"
      ]
     },
     "execution_count": 57,
     "metadata": {},
     "output_type": "execute_result"
    }
   ],
   "source": [
    "#Covariance\n",
    "Cov = numer/n\n",
    "Cov"
   ]
  },
  {
   "cell_type": "code",
   "execution_count": 58,
   "id": "61ef6a67",
   "metadata": {},
   "outputs": [
    {
     "data": {
      "text/plain": [
       "107.9375"
      ]
     },
     "execution_count": 58,
     "metadata": {},
     "output_type": "execute_result"
    }
   ],
   "source": [
    "#Variance  of x\n",
    "Var_x = denom/n\n",
    "Var_x"
   ]
  },
  {
   "cell_type": "markdown",
   "id": "fc4b52d4",
   "metadata": {},
   "source": [
    "# For Forecasting use slope and Intercept\n",
    "Forecast Promo_budget for sales y = 140"
   ]
  },
  {
   "cell_type": "code",
   "execution_count": 59,
   "id": "c3d637f9",
   "metadata": {},
   "outputs": [
    {
     "name": "stdout",
     "output_type": "stream",
     "text": [
      "Required Promo_budget is  183.25709322524608\n"
     ]
    }
   ],
   "source": [
    "y1 = a + b*140\n",
    "print(\"Required Promo_budget is \", y1)"
   ]
  },
  {
   "cell_type": "code",
   "execution_count": 60,
   "id": "7ca8119e",
   "metadata": {},
   "outputs": [
    {
     "data": {
      "text/plain": [
       "<matplotlib.collections.PathCollection at 0x288dfc52820>"
      ]
     },
     "execution_count": 60,
     "metadata": {},
     "output_type": "execute_result"
    },
    {
     "data": {
      "image/png": "[encoded data removed]",
      "text/plain": [
       "<Figure size 432x288 with 1 Axes>"
      ]
     },
     "metadata": {
      "needs_background": "light"
     },
     "output_type": "display_data"
    }
   ],
   "source": [
    "plt.scatter(X,Y)"
   ]
  },
  {
   "cell_type": "markdown",
   "id": "9063a331",
   "metadata": {},
   "source": [
    "**Adding trendline**"
   ]
  },
  {
   "cell_type": "code",
   "execution_count": 61,
   "id": "59a79506",
   "metadata": {},
   "outputs": [
    {
     "data": {
      "image/png": "[encoded data removed]",
      "text/plain": [
       "<Figure size 432x288 with 1 Axes>"
      ]
     },
     "metadata": {
      "needs_background": "light"
     },
     "output_type": "display_data"
    }
   ],
   "source": [
    "plt.scatter(X,Y, label='Scatter plot')\n",
    "z = np.polyfit(X, Y, 1)   #Gives array of [slope, intercept]\n",
    "p = np.poly1d(z)\n",
    "plt.plot(X,p(X),\"r--\", label='Regression Line')\n",
    "\n",
    "plt.xlabel(\"Promo_Budget\")\n",
    "plt.ylabel(\"Sales\")\n",
    "plt.legend()\n",
    "plt.show()"
   ]
  },
  {
   "cell_type": "markdown",
   "id": "c2e1635b",
   "metadata": {},
   "source": [
    "**How good is our fit ?**   \n",
    "We look at $R^2$ value here   \n",
    "\n",
    "$R^2 = 1-\\frac {SSR}{SST}$    \n",
    "# $ = 1 - \\frac{\\sum ( y_i- \\hat y_i )^2}{\\sum ( y_i-\\bar y )^2}$     \n",
    "\n",
    "$\\hat y_i$ is value of y on trendline for corresponding x value.    \n",
    "$y_i$ is actual y value given.   \n",
    "$\\bar y$ is mean of y.    \n",
    "\n",
    "SSR = Sum of Square of Residuals    \n",
    "SST = Total Sum of Squares\n"
   ]
  },
  {
   "cell_type": "code",
   "execution_count": 62,
   "id": "aa33f8ac",
   "metadata": {},
   "outputs": [
    {
     "name": "stdout",
     "output_type": "stream",
     "text": [
      "R^2 percentage value is  67.05747925110983\n"
     ]
    }
   ],
   "source": [
    "ssr = 0\n",
    "sst = 0\n",
    "for i in range(n):\n",
    "    y_pred = a + b*X[i]\n",
    "    ssr += (Y[i]-y_pred)**2\n",
    "    sst += (Y[i]-y_mean)**2\n",
    "R2 = 1-(ssr/sst)\n",
    "print(\"R^2 percentage value is \", R2*100)"
   ]
  },
  {
   "cell_type": "markdown",
   "id": "95a9135a",
   "metadata": {},
   "source": [
    "**67.057% of the variation of y values is accounted for by the x values.**"
   ]
  },
  {
   "cell_type": "markdown",
   "id": "675cbfc3",
   "metadata": {},
   "source": [
    "*Non-linear regression   \n",
    "Multi-variate regression   \n",
    "These will be added later.*"
   ]
  },
  {
   "cell_type": "code",
   "execution_count": null,
   "id": "7c08fe25",
   "metadata": {},
   "outputs": [],
   "source": []
  },
  {
   "cell_type": "markdown",
   "id": "3ccff53f",
   "metadata": {},
   "source": [
    "# Probability"
   ]
  },
  {
   "cell_type": "markdown",
   "id": "320584b9",
   "metadata": {},
   "source": [
    "I will write few terms which you can go and glance them. These are helpful to see big picture.\n",
    "\n"
   ]
  },
  {
   "cell_type": "markdown",
   "id": "5ba5ba0a",
   "metadata": {},
   "source": [
    "1. Set\n",
    "    1. Subset, Superset, disjoint sets\n",
    "    2. Operations - Union, Intersection, minus, add\n",
    "    3. etc.\n",
    "2. Probablity\n",
    "    1. Random experiment\n",
    "    2. Outcome or Cases\n",
    "    3. Sample Space\n",
    "    3. Event -- Impossible and Certain Event\n",
    "    4. Equally likely, Bias.\n",
    "    5. Mutually Exclusive\n",
    "    6. Exhaustive\n",
    "    7. Complementary Events\n",
    "    8. Indepedent Events\n",
    "    9. Conditional Probability\n",
    "    10. Baye's Theorem\n",
    "    "
   ]
  },
  {
   "cell_type": "markdown",
   "id": "457891dc",
   "metadata": {},
   "source": [
    "## Uniform Distribution"
   ]
  },
  {
   "cell_type": "code",
   "execution_count": 63,
   "id": "f8cd2a93",
   "metadata": {},
   "outputs": [],
   "source": [
    "#Use scipy library\n",
    "import scipy.stats as stats"
   ]
  },
  {
   "cell_type": "code",
   "execution_count": 64,
   "id": "5ac76103",
   "metadata": {},
   "outputs": [],
   "source": [
    "uniform_data = stats.uniform.rvs(size=10000, #Generates 10000 values\n",
    "                                 loc=0, #From 0\n",
    "                                 scale=10) #Till 10"
   ]
  },
  {
   "cell_type": "code",
   "execution_count": 65,
   "id": "ba0e9c5e",
   "metadata": {},
   "outputs": [
    {
     "data": {
      "text/plain": [
       "<AxesSubplot:ylabel='Density'>"
      ]
     },
     "execution_count": 65,
     "metadata": {},
     "output_type": "execute_result"
    },
    {
     "data": {
      "image/png": "[encoded data removed]",
      "text/plain": [
       "<Figure size 648x648 with 1 Axes>"
      ]
     },
     "metadata": {
      "needs_background": "light"
     },
     "output_type": "display_data"
    }
   ],
   "source": [
    "pd.DataFrame(uniform_data).plot(kind='density', figsize=(9,9), xlim=(-1,11))"
   ]
  },
  {
   "cell_type": "code",
   "execution_count": 66,
   "id": "1c9600f0",
   "metadata": {},
   "outputs": [
    {
     "data": {
      "text/plain": [
       "0.25"
      ]
     },
     "execution_count": 66,
     "metadata": {},
     "output_type": "execute_result"
    }
   ],
   "source": [
    "# Cumulative distribution until x\n",
    "stats.uniform.cdf(x=2.5, #Cut-off value\n",
    "                  loc=0,scale=10)"
   ]
  },
  {
   "cell_type": "code",
   "execution_count": 67,
   "id": "a25488d5",
   "metadata": {},
   "outputs": [
    {
     "data": {
      "text/plain": [
       "1.0"
      ]
     },
     "execution_count": 67,
     "metadata": {},
     "output_type": "execute_result"
    }
   ],
   "source": [
    "stats.uniform.cdf(x=10,loc=0,scale=10)"
   ]
  },
  {
   "cell_type": "code",
   "execution_count": 68,
   "id": "b97a03b6",
   "metadata": {},
   "outputs": [
    {
     "data": {
      "text/plain": [
       "4.0"
      ]
     },
     "execution_count": 68,
     "metadata": {},
     "output_type": "execute_result"
    }
   ],
   "source": [
    "#if we want to know the cutoff value for which we have a 40% chance of drawing an observation below that value\n",
    "\n",
    "stats.uniform.ppf(q=0.4, #Probability cutoff\n",
    "                 loc=0, scale=10)"
   ]
  },
  {
   "cell_type": "markdown",
   "id": "a3d30d8a",
   "metadata": {},
   "source": [
    "## Let us solve a problem.\n",
    "Q1. Cost of manufacturing a smart phone in a particular factory in Taiwan varies UNIFORMLY between \\\\$40 to \\\\$65    \n",
    "Answer the following:     \n",
    "1. What is the probability that the manufacturing cost will be between \\\\$45 to \\\\$53?    \n",
    "2. What is the probability that the manufacturing cost will be at least \\\\$57?    \n",
    "3. What is the the benchmark cost which carries a cumulative probability of 75%?    "
   ]
  },
  {
   "cell_type": "code",
   "execution_count": 69,
   "id": "bcf9e443",
   "metadata": {},
   "outputs": [
    {
     "data": {
      "text/plain": [
       "0.32"
      ]
     },
     "execution_count": 69,
     "metadata": {},
     "output_type": "execute_result"
    }
   ],
   "source": [
    "# 1. What is the probability that the manufacturing cost will be between $45 to $53?\n",
    "\n",
    "stats.uniform.cdf(x=53,loc=40,scale=25) - stats.uniform.cdf(x=45,loc=40,scale=25)"
   ]
  },
  {
   "cell_type": "code",
   "execution_count": 70,
   "id": "ce0b0eee",
   "metadata": {},
   "outputs": [
    {
     "data": {
      "text/plain": [
       "0.31999999999999995"
      ]
     },
     "execution_count": 70,
     "metadata": {},
     "output_type": "execute_result"
    }
   ],
   "source": [
    "#2. What is the probability that the manufacturing cost will be at least $57?\n",
    "\n",
    "1-stats.uniform.cdf(x=57,loc=40,scale=25)"
   ]
  },
  {
   "cell_type": "code",
   "execution_count": 71,
   "id": "491d15fa",
   "metadata": {},
   "outputs": [
    {
     "data": {
      "text/plain": [
       "58.75"
      ]
     },
     "execution_count": 71,
     "metadata": {},
     "output_type": "execute_result"
    }
   ],
   "source": [
    "#3. What is the the benchmark cost which carries a cumulative probability of 75%?\n",
    "\n",
    "\n",
    "stats.uniform.ppf(q=0.75,loc=40, scale=25)"
   ]
  },
  {
   "cell_type": "markdown",
   "id": "7f09929d",
   "metadata": {},
   "source": [
    "## Binomial Distribution   \n",
    "\n",
    "Dicrete Probability distribution\n"
   ]
  },
  {
   "cell_type": "code",
   "execution_count": 72,
   "id": "49d1ec75",
   "metadata": {},
   "outputs": [
    {
     "name": "stdout",
     "output_type": "stream",
     "text": [
      "col_0   0   1    2     3     4     5     6     7    8    9   10\n",
      "row_0                                                          \n",
      "counts   5  90  473  1164  2009  2474  2049  1189  424  108  15\n"
     ]
    },
    {
     "data": {
      "image/png": "[encoded data removed]",
      "text/plain": [
       "<Figure size 432x288 with 1 Axes>"
      ]
     },
     "metadata": {
      "needs_background": "light"
     },
     "output_type": "display_data"
    }
   ],
   "source": [
    "# fair coin\n",
    "fair_coin_flips = stats.binom.rvs(n=10, #Number of flips per trial\n",
    "                                 p=0.5, #Success probability\n",
    "                                 size=10000)# Number of trials\n",
    "\n",
    "print( pd.crosstab(index=\"counts\", columns= fair_coin_flips))  #counts is success counts\n",
    "\n",
    "pd.DataFrame(fair_coin_flips).hist(range=(-0.5,10.5), bins=11);"
   ]
  },
  {
   "cell_type": "code",
   "execution_count": 73,
   "id": "dd49b909",
   "metadata": {},
   "outputs": [
    {
     "data": {
      "text/plain": [
       "0.623046875"
      ]
     },
     "execution_count": 73,
     "metadata": {},
     "output_type": "execute_result"
    }
   ],
   "source": [
    "#The cdf() function lets us check the probability of achieving a number of successes within a certain range\n",
    "\n",
    "stats.binom.cdf(k=5, #probability of k=5 success or less\n",
    "               n=10, #With 10 flips\n",
    "               p=0.5)#Success probability"
   ]
  },
  {
   "cell_type": "code",
   "execution_count": 74,
   "id": "e9b3de45",
   "metadata": {},
   "outputs": [
    {
     "data": {
      "text/plain": [
       "0.623046875"
      ]
     },
     "execution_count": 74,
     "metadata": {},
     "output_type": "execute_result"
    }
   ],
   "source": [
    "#probability of k=5 success or more\n",
    "p1 = 1 - stats.binom.cdf(k=4, n=10, p=0.5)\n",
    "p1"
   ]
  },
  {
   "cell_type": "markdown",
   "id": "af78f682",
   "metadata": {},
   "source": [
    "**Let us solve a problem**    \n",
    "Q1. Suppose there is  75% probability that a penalty kick will be converted by Barcelona FC, a famous football club in Spain, irrespective\n",
    "of who takes the penalty kick. In a \"Tie-Breaker\", one team takes FIVE Penalty kicks   \n",
    "1. Probability that five goals will be scored    \n",
    "2. Probability that at least two goals will be scored   \n",
    "3. Probability that at most two goals will be scored   "
   ]
  },
  {
   "cell_type": "code",
   "execution_count": 75,
   "id": "fc589182",
   "metadata": {},
   "outputs": [
    {
     "data": {
      "text/plain": [
       "0.2373046875"
      ]
     },
     "execution_count": 75,
     "metadata": {},
     "output_type": "execute_result"
    }
   ],
   "source": [
    "#1. Probability that five goals will be scored\n",
    "stats.binom.pmf(k=5,n=5,p=0.75)"
   ]
  },
  {
   "cell_type": "code",
   "execution_count": 76,
   "id": "c261d511",
   "metadata": {},
   "outputs": [
    {
     "data": {
      "text/plain": [
       "0.984375"
      ]
     },
     "execution_count": 76,
     "metadata": {},
     "output_type": "execute_result"
    }
   ],
   "source": [
    "#2. Probability that at least two goals will be scored\n",
    "1-stats.binom.cdf(k=1,n=5,p=0.75)"
   ]
  },
  {
   "cell_type": "code",
   "execution_count": 77,
   "id": "871efbad",
   "metadata": {},
   "outputs": [
    {
     "data": {
      "text/plain": [
       "0.103515625"
      ]
     },
     "execution_count": 77,
     "metadata": {},
     "output_type": "execute_result"
    }
   ],
   "source": [
    "#3. Probability that at most two goals will be scored\n",
    "stats.binom.cdf(k=2,n=5,p=0.75)"
   ]
  },
  {
   "cell_type": "code",
   "execution_count": 78,
   "id": "3615c8c2",
   "metadata": {},
   "outputs": [
    {
     "data": {
      "text/plain": [
       "0.7470703125"
      ]
     },
     "execution_count": 78,
     "metadata": {},
     "output_type": "execute_result"
    }
   ],
   "source": [
    "#4. What is probability that between 2 and 4 goals included are scored?\n",
    "stats.binom.cdf(k=4,n=5,p=0.75)-stats.binom.cdf(k=1,n=5,p=0.75)\n"
   ]
  },
  {
   "cell_type": "code",
   "execution_count": 79,
   "id": "cf139b09",
   "metadata": {},
   "outputs": [],
   "source": [
    "# Making a probability distribution table\n",
    "exact_prob=[None]*5\n",
    "cuml_prob=[None]*5\n",
    "for i in range(6):\n",
    "    exact_prob[i] = stats.binom.pmf(k=i,n=5,p=0.75)\n",
    "    cuml_prob[i] = stats.binom.cdf(k=i,n=5,p=0.75)\n",
    "    exact_prob.append(i)\n",
    "    cuml_prob.append(i)\n"
   ]
  },
  {
   "cell_type": "code",
   "execution_count": 80,
   "id": "57b7a3d3",
   "metadata": {},
   "outputs": [
    {
     "data": {
      "text/plain": [
       "[0.0009765625,\n",
       " 0.014648437499999998,\n",
       " 0.08789062499999994,\n",
       " 0.26367187499999983,\n",
       " 0.39550781250000006,\n",
       " 0.2373046875]"
      ]
     },
     "execution_count": 80,
     "metadata": {},
     "output_type": "execute_result"
    }
   ],
   "source": [
    "exact_prob[0:6]"
   ]
  },
  {
   "cell_type": "code",
   "execution_count": 81,
   "id": "d1499b37",
   "metadata": {},
   "outputs": [
    {
     "data": {
      "text/plain": [
       "[0.0009765625, 0.015625, 0.103515625, 0.3671875, 0.7626953125, 1.0]"
      ]
     },
     "execution_count": 81,
     "metadata": {},
     "output_type": "execute_result"
    }
   ],
   "source": [
    "cuml_prob[0:6]"
   ]
  },
  {
   "cell_type": "code",
   "execution_count": 82,
   "id": "d898f4c4",
   "metadata": {},
   "outputs": [
    {
     "data": {
      "text/html": [
       "<div>\n",
       "<style scoped>\n",
       "    .dataframe tbody tr th:only-of-type {\n",
       "        vertical-align: middle;\n",
       "    }\n",
       "\n",
       "    .dataframe tbody tr th {\n",
       "        vertical-align: top;\n",
       "    }\n",
       "\n",
       "    .dataframe thead th {\n",
       "        text-align: right;\n",
       "    }\n",
       "</style>\n",
       "<table border=\"1\" class=\"dataframe\">\n",
       "  <thead>\n",
       "    <tr style=\"text-align: right;\">\n",
       "      <th></th>\n",
       "      <th>Success</th>\n",
       "      <th>exact_prob</th>\n",
       "      <th>Cumulative_prob</th>\n",
       "    </tr>\n",
       "  </thead>\n",
       "  <tbody>\n",
       "    <tr>\n",
       "      <th>0</th>\n",
       "      <td>0</td>\n",
       "      <td>0.000977</td>\n",
       "      <td>0.000977</td>\n",
       "    </tr>\n",
       "    <tr>\n",
       "      <th>1</th>\n",
       "      <td>1</td>\n",
       "      <td>0.014648</td>\n",
       "      <td>0.015625</td>\n",
       "    </tr>\n",
       "    <tr>\n",
       "      <th>2</th>\n",
       "      <td>2</td>\n",
       "      <td>0.087891</td>\n",
       "      <td>0.103516</td>\n",
       "    </tr>\n",
       "    <tr>\n",
       "      <th>3</th>\n",
       "      <td>3</td>\n",
       "      <td>0.263672</td>\n",
       "      <td>0.367188</td>\n",
       "    </tr>\n",
       "    <tr>\n",
       "      <th>4</th>\n",
       "      <td>4</td>\n",
       "      <td>0.395508</td>\n",
       "      <td>0.762695</td>\n",
       "    </tr>\n",
       "    <tr>\n",
       "      <th>5</th>\n",
       "      <td>5</td>\n",
       "      <td>0.237305</td>\n",
       "      <td>1.000000</td>\n",
       "    </tr>\n",
       "  </tbody>\n",
       "</table>\n",
       "</div>"
      ],
      "text/plain": [
       "   Success  exact_prob  Cumulative_prob\n",
       "0        0    0.000977         0.000977\n",
       "1        1    0.014648         0.015625\n",
       "2        2    0.087891         0.103516\n",
       "3        3    0.263672         0.367188\n",
       "4        4    0.395508         0.762695\n",
       "5        5    0.237305         1.000000"
      ]
     },
     "execution_count": 82,
     "metadata": {},
     "output_type": "execute_result"
    }
   ],
   "source": [
    "df4 = pd.DataFrame(dict(Success=range(6), exact_prob=exact_prob[0:6], Cumulative_prob=cuml_prob[0:6]))\n",
    "df4\n"
   ]
  },
  {
   "cell_type": "code",
   "execution_count": 83,
   "id": "4e18f8c9",
   "metadata": {},
   "outputs": [
    {
     "data": {
      "image/png": "[encoded data removed]",
      "text/plain": [
       "<Figure size 432x288 with 1 Axes>"
      ]
     },
     "metadata": {
      "needs_background": "light"
     },
     "output_type": "display_data"
    }
   ],
   "source": [
    "plt.plot(range(6), exact_prob[0:6], label='P(x)')\n",
    "plt.plot(range(6), cuml_prob[0:6], label='Cumulative Prob')\n",
    "plt.legend()\n",
    "plt.show()"
   ]
  },
  {
   "cell_type": "markdown",
   "id": "095a7fae",
   "metadata": {},
   "source": [
    "## Poisson Distribution"
   ]
  },
  {
   "cell_type": "markdown",
   "id": "466a72c9",
   "metadata": {},
   "source": [
    "**Let us solve one problem**   \n",
    "Q1. Suppose in a busy maternity center, on an average 1 baby is born in every 15 minutes\n",
    "1. Probability that no baby will be born in next one hour    \n",
    "2. Probability that at least two babies will be born in next one hour     \n",
    "3. Probability that at most two babies will be born in next one hour    \n",
    "\n",
    "mean of distribution, mu = 4"
   ]
  },
  {
   "cell_type": "code",
   "execution_count": 84,
   "id": "7cccf94f",
   "metadata": {},
   "outputs": [
    {
     "data": {
      "text/plain": [
       "0.01831563888873418"
      ]
     },
     "execution_count": 84,
     "metadata": {},
     "output_type": "execute_result"
    }
   ],
   "source": [
    "#1. Probability that no baby will be born in next one hour\n",
    "stats.poisson.pmf(k=0, mu=4)"
   ]
  },
  {
   "cell_type": "code",
   "execution_count": 85,
   "id": "1b3924ef",
   "metadata": {},
   "outputs": [
    {
     "data": {
      "text/plain": [
       "0.9084218055563291"
      ]
     },
     "execution_count": 85,
     "metadata": {},
     "output_type": "execute_result"
    }
   ],
   "source": [
    "#2. Probability that at least two babies will be born in next one hour\n",
    "1-stats.poisson.cdf(k=1,mu=4)"
   ]
  },
  {
   "cell_type": "code",
   "execution_count": 86,
   "id": "ba739a6e",
   "metadata": {},
   "outputs": [
    {
     "data": {
      "text/plain": [
       "0.23810330555354436"
      ]
     },
     "execution_count": 86,
     "metadata": {},
     "output_type": "execute_result"
    }
   ],
   "source": [
    "#3. Probability that at most two babies will be born in next one hour\n",
    "stats.poisson.cdf(k=2,mu=4)"
   ]
  },
  {
   "cell_type": "markdown",
   "id": "094967a2",
   "metadata": {},
   "source": [
    "## Normal Distribution\n",
    "\n",
    "*Mean = 0  and Standard deviation = 1*    \n",
    "\n",
    "## $f(x) = \\frac {1}{\\sigma \\sqrt {2 \\pi}}e^{\\frac{-1}{2}}\\frac{(x - \\mu)^2}{\\sigma}$    \n",
    "\n",
    "## $z = \\frac {(x-\\mu)}{\\sigma}$    \n"
   ]
  },
  {
   "cell_type": "code",
   "execution_count": 87,
   "id": "20478270",
   "metadata": {},
   "outputs": [
    {
     "data": {
      "text/plain": [
       "0.15865525393145707"
      ]
     },
     "execution_count": 87,
     "metadata": {},
     "output_type": "execute_result"
    }
   ],
   "source": [
    "stats.norm.cdf(x=-1,loc=0,scale=1)"
   ]
  },
  {
   "cell_type": "code",
   "execution_count": 88,
   "id": "39abe3b5",
   "metadata": {},
   "outputs": [
    {
     "data": {
      "text/plain": [
       "0.9772498680518208"
      ]
     },
     "execution_count": 88,
     "metadata": {},
     "output_type": "execute_result"
    }
   ],
   "source": [
    "stats.norm.cdf(x=40, #Value of x\n",
    "               loc=30, # mu\n",
    "               scale=5) #Standard deviation"
   ]
  },
  {
   "cell_type": "markdown",
   "id": "c31c5a63",
   "metadata": {},
   "source": [
    "## Let us solve one problem\n",
    "**Q1. A leading brand of Pizza Delivery service observes that the Delivery Time follows NORMAL Distrubution with a mean of\n",
    "30 minutes and a std dev of 5 minutes**   \n",
    "1. What is the probability that a particular delivery will happen within 40 minutes?     \n",
    "2. What is the probability that a particular delivery will happen between 22 to 42 minutes?     \n",
    "3. What is the probability that a particular delivery will take at least 37.5 minutes?     \n",
    "4. What is the Benchmark Delivery time within which 90% of the deliveries take place?    \n",
    "\n",
    "$\\mu = 30$   \n",
    "$\\sigma = 5$   \n"
   ]
  },
  {
   "cell_type": "code",
   "execution_count": 89,
   "id": "8b9e3574",
   "metadata": {},
   "outputs": [
    {
     "data": {
      "text/plain": [
       "0.9772498680518208"
      ]
     },
     "execution_count": 89,
     "metadata": {},
     "output_type": "execute_result"
    }
   ],
   "source": [
    "#1. What is the probability that a particular delivery will happen within 40 minutes?\n",
    "\n",
    "stats.norm.cdf(x=40, #Value of x\n",
    "               loc=30, # mu\n",
    "               scale=5) #Standard deviation"
   ]
  },
  {
   "cell_type": "code",
   "execution_count": 90,
   "id": "3925140c",
   "metadata": {},
   "outputs": [
    {
     "data": {
      "text/plain": [
       "0.9370031723758458"
      ]
     },
     "execution_count": 90,
     "metadata": {},
     "output_type": "execute_result"
    }
   ],
   "source": [
    "#2. What is the probability that a particular delivery will happen between 22 to 42 minutes?\n",
    "stats.norm.cdf(x=42,loc=30,scale=5)-stats.norm.cdf(x=22,loc=30,scale=5)\n"
   ]
  },
  {
   "cell_type": "code",
   "execution_count": 91,
   "id": "98ee62bd",
   "metadata": {},
   "outputs": [
    {
     "data": {
      "text/plain": [
       "0.06680720126885809"
      ]
     },
     "execution_count": 91,
     "metadata": {},
     "output_type": "execute_result"
    }
   ],
   "source": [
    "#3. What is the probability that a particular delivery will take at least 37.5 minutes?\n",
    "\n",
    "1-stats.norm.cdf(x=37.5,loc=30,scale=5)"
   ]
  },
  {
   "cell_type": "code",
   "execution_count": 92,
   "id": "ef33d142",
   "metadata": {},
   "outputs": [
    {
     "data": {
      "text/plain": [
       "1.2815515655446004"
      ]
     },
     "execution_count": 92,
     "metadata": {},
     "output_type": "execute_result"
    }
   ],
   "source": [
    "#4. What is the Benchmark Delivery time within which 90% of the delieveries take place?\n",
    "# we calculate z and then calculate x\n",
    "stats.norm.ppf(q=.90) #gives z value"
   ]
  },
  {
   "cell_type": "markdown",
   "id": "a09a05d8",
   "metadata": {},
   "source": [
    "$x = \\mu + z*\\sigma$ "
   ]
  },
  {
   "cell_type": "code",
   "execution_count": 93,
   "id": "ee6f123f",
   "metadata": {},
   "outputs": [
    {
     "data": {
      "text/plain": [
       "36.407757827723"
      ]
     },
     "execution_count": 93,
     "metadata": {},
     "output_type": "execute_result"
    }
   ],
   "source": [
    "30 + stats.norm.ppf(q=.90)*5   #Benchmark Delivery time in minutes"
   ]
  },
  {
   "cell_type": "markdown",
   "id": "5d638078",
   "metadata": {},
   "source": [
    "# Inferential Statistics"
   ]
  },
  {
   "cell_type": "markdown",
   "id": "c29cc5ea",
   "metadata": {},
   "source": [
    "Sampling techniques   \n",
    "1. Random or Probabilistic Sampling    \n",
    "        1.Clustering Technique    \n",
    "        2.Stratification / Segmentation   \n",
    "        3.Simple Random Sampling     \n",
    "2. Non-Random or Non-Probabilistic Sampling    \n",
    "        1.Judgement Sampling   \n",
    "        2.Quota Sampling   \n",
    "        3.Snowball Sampling   \n",
    "        4.Convenience Sampling   \n",
    "        \n",
    "Central Limit Theorem   \n",
    "Confidence interval   \n",
    "Level of significance ($\\alpha$) = 1 - Level of Confidence   \n"
   ]
  },
  {
   "cell_type": "markdown",
   "id": "21171597",
   "metadata": {},
   "source": [
    "**Notation:**\n",
    "\n",
    "| Item        | Population     | Sample |    \n",
    "| ----------- | -----------    | ------ |     \n",
    "| Size        | N              |   n    |\n",
    "| Mean        | $\\bar X or \\mu$ | $\\bar x$ |    \n",
    "| Standard deviation | $\\sigma$    | s  |\n",
    "| Proportion     | P | p | \n",
    "|      | Parameter | Statistic |     \n",
    "\n",
    "\n",
    "\n",
    "We use z-test if sample size ( n ) > 30.    \n",
    "We use t-test if sample size ( n ) < 30."
   ]
  },
  {
   "cell_type": "markdown",
   "id": "c565be8c",
   "metadata": {},
   "source": [
    "## Z-statistic\n",
    "**Let us solve a problem**   \n",
    "\n",
    "**Q1.** In order to estimate the average age of the consumers of first time apartment buyer in Neverland City, a sample of 500 is drawn   \n",
    "The sample mean is 33.2 years and Sample Standard Deviation is 3.9 years   \n",
    "Construct an Interval estimate of the Population Mean using 90% Level of Confidence.\n",
    "\n"
   ]
  },
  {
   "cell_type": "markdown",
   "id": "02fcd1b6",
   "metadata": {},
   "source": [
    "Sol:  *sample size (n) > 30. We use **z-test**.*   \n",
    "\n",
    "\n",
    "| n        | 500 |\n",
    "|----|----|   \n",
    "|$\\bar x$  | 33.2|   \n",
    "|s         | 3.9 |   \n",
    "|1-$\\alpha$| 90% |   \n",
    "|$\\alpha$| 10% |    \n",
    "\n",
    "\n",
    "Standard error ( $\\sigma _\\bar x$ ) = Standard deviation of the sampling distribution of sample mean    \n",
    "$\\sigma _\\bar x$  = $\\frac{\\sigma}{\\sqrt n}$  =  $\\frac{s}{\\sqrt n}$"
   ]
  },
  {
   "cell_type": "code",
   "execution_count": 101,
   "id": "5405bd34",
   "metadata": {},
   "outputs": [
    {
     "data": {
      "text/plain": [
       "0.17441330224498358"
      ]
     },
     "execution_count": 101,
     "metadata": {},
     "output_type": "execute_result"
    }
   ],
   "source": [
    "#Standard error\n",
    "\n",
    "import math\n",
    "standard_error = 3.9/math.sqrt(500)\n",
    "standard_error"
   ]
  },
  {
   "cell_type": "code",
   "execution_count": 96,
   "id": "ada3669d",
   "metadata": {},
   "outputs": [
    {
     "data": {
      "text/plain": [
       "1.6448536269514722"
      ]
     },
     "execution_count": 96,
     "metadata": {},
     "output_type": "execute_result"
    }
   ],
   "source": [
    "#two tails\n",
    "\n",
    "#right tail\n",
    "z_critical = stats.norm.ppf(q = 0.95)\n",
    "z_critical"
   ]
  },
  {
   "cell_type": "code",
   "execution_count": 97,
   "id": "a54c14d5",
   "metadata": {},
   "outputs": [
    {
     "data": {
      "text/plain": [
       "-1.6448536269514729"
      ]
     },
     "execution_count": 97,
     "metadata": {},
     "output_type": "execute_result"
    }
   ],
   "source": [
    "#left tail\n",
    "stats.norm.ppf(q = 0.05)"
   ]
  },
  {
   "cell_type": "markdown",
   "id": "87df0117",
   "metadata": {},
   "source": [
    "Sampling error = $z\\sigma _\\bar x$"
   ]
  },
  {
   "cell_type": "code",
   "execution_count": 102,
   "id": "a312402d",
   "metadata": {},
   "outputs": [
    {
     "data": {
      "text/plain": [
       "0.2868843527862446"
      ]
     },
     "execution_count": 102,
     "metadata": {},
     "output_type": "execute_result"
    }
   ],
   "source": [
    "#sampling error\n",
    "sampling_error = z_critical*standard_error\n",
    "sampling_error"
   ]
  },
  {
   "cell_type": "code",
   "execution_count": 104,
   "id": "a723f42b",
   "metadata": {},
   "outputs": [
    {
     "data": {
      "text/plain": [
       "(32.91311564721376, 33.48688435278625)"
      ]
     },
     "execution_count": 104,
     "metadata": {},
     "output_type": "execute_result"
    }
   ],
   "source": [
    "#interval estimate\n",
    "interval_estimate = (33.2 - sampling_error, 33.2 + sampling_error)\n",
    "interval_estimate"
   ]
  },
  {
   "cell_type": "markdown",
   "id": "64b5b17a",
   "metadata": {},
   "source": [
    "Directly we can calcualte interval estimate using"
   ]
  },
  {
   "cell_type": "code",
   "execution_count": 117,
   "id": "b5610c50",
   "metadata": {},
   "outputs": [
    {
     "data": {
      "text/plain": [
       "(32.91311564721376, 33.48688435278625)"
      ]
     },
     "execution_count": 117,
     "metadata": {},
     "output_type": "execute_result"
    }
   ],
   "source": [
    "stats.norm.interval(alpha=.90, #Confidence level\n",
    "                    loc=33.2, #sample mean\n",
    "                     scale=standard_error) #standard error"
   ]
  },
  {
   "cell_type": "markdown",
   "id": "c9b9e2c3",
   "metadata": {},
   "source": [
    "## t-statistic\n",
    "**Let us solve problem which has low sample size.**    \n",
    "\n",
    "Q1. In order to estimate the average expenditure of households on Broadband in Neverland city, a sample of 25 households is drawn   \n",
    "The sample mean is Rs. 1012.50 per month and the sample SD is Rs. 450.25   \n",
    "Construct an Interval estimate of the Population Mean using 95% Level of Confidence   \n",
    "\n",
    "Sol.    *sample size (n) < 30. We use **t-statistic**.*  We need degree of freedom (n-1) to calculate t-values.    \n",
    "\n",
    "\n",
    "| n        | 25 |\n",
    "|----|----|   \n",
    "|$\\bar x$  | 1012.50|   \n",
    "|s         | 450.25 |   \n",
    "|1-$\\alpha$| 95% |   \n",
    "|$\\alpha$| 5% |    \n",
    "  \n",
    "\n"
   ]
  },
  {
   "cell_type": "markdown",
   "id": "89b98dda",
   "metadata": {},
   "source": [
    "Standard Error of Sample Mean, \n",
    "$\\sigma _\\bar x$  = $\\frac{\\sigma}{\\sqrt n}$  =  $\\frac{s}{\\sqrt n}$"
   ]
  },
  {
   "cell_type": "code",
   "execution_count": 105,
   "id": "c597051f",
   "metadata": {},
   "outputs": [
    {
     "data": {
      "text/plain": [
       "90.05"
      ]
     },
     "execution_count": 105,
     "metadata": {},
     "output_type": "execute_result"
    }
   ],
   "source": [
    "standard_error1 = 450.25/math.sqrt(25)\n",
    "standard_error1"
   ]
  },
  {
   "cell_type": "code",
   "execution_count": 106,
   "id": "1bbd5d2c",
   "metadata": {},
   "outputs": [
    {
     "data": {
      "text/plain": [
       "24"
      ]
     },
     "execution_count": 106,
     "metadata": {},
     "output_type": "execute_result"
    }
   ],
   "source": [
    "#Degrees of freedon is (n-1)\n",
    "24"
   ]
  },
  {
   "cell_type": "code",
   "execution_count": 107,
   "id": "992c70fb",
   "metadata": {},
   "outputs": [
    {
     "data": {
      "text/plain": [
       "2.0638985616280205"
      ]
     },
     "execution_count": 107,
     "metadata": {},
     "output_type": "execute_result"
    }
   ],
   "source": [
    "#two tails\n",
    "#right tail\n",
    "t_critical = stats.t.ppf(q = 0.975, df=24)\n",
    "t_critical"
   ]
  },
  {
   "cell_type": "code",
   "execution_count": 108,
   "id": "77137edf",
   "metadata": {},
   "outputs": [
    {
     "data": {
      "text/plain": [
       "-2.0638985616280205"
      ]
     },
     "execution_count": 108,
     "metadata": {},
     "output_type": "execute_result"
    }
   ],
   "source": [
    "#left tail\n",
    "-stats.t.ppf(q = 0.975, df=24)"
   ]
  },
  {
   "cell_type": "markdown",
   "id": "00e2e5dd",
   "metadata": {},
   "source": [
    "Sampling error = $t \\sigma _\\bar x$\n"
   ]
  },
  {
   "cell_type": "code",
   "execution_count": 110,
   "id": "78715d24",
   "metadata": {},
   "outputs": [
    {
     "data": {
      "text/plain": [
       "185.85406547460323"
      ]
     },
     "execution_count": 110,
     "metadata": {},
     "output_type": "execute_result"
    }
   ],
   "source": [
    "#sampling error\n",
    "sampling_error1 = t_critical*standard_error1\n",
    "sampling_error1"
   ]
  },
  {
   "cell_type": "code",
   "execution_count": 113,
   "id": "56de6d9f",
   "metadata": {},
   "outputs": [
    {
     "data": {
      "text/plain": [
       "(826.6459345253968, 1198.3540654746032)"
      ]
     },
     "execution_count": 113,
     "metadata": {},
     "output_type": "execute_result"
    }
   ],
   "source": [
    "#Interval estimate\n",
    "interval_estimate1 = (1012.50 - sampling_error1, 1012.50 + sampling_error1)\n",
    "interval_estimate1\n"
   ]
  },
  {
   "cell_type": "markdown",
   "id": "3b89b58b",
   "metadata": {},
   "source": [
    "Directly we can calculate interval estimate using"
   ]
  },
  {
   "cell_type": "code",
   "execution_count": 115,
   "id": "85850ae4",
   "metadata": {},
   "outputs": [
    {
     "data": {
      "text/plain": [
       "(826.6459345253968, 1198.3540654746032)"
      ]
     },
     "execution_count": 115,
     "metadata": {},
     "output_type": "execute_result"
    }
   ],
   "source": [
    "stats.t.interval(alpha=.95,#Confidence level\n",
    "                 df=24,#Degrees of freedom\n",
    "                 loc=1012.50, #Sample mean\n",
    "                 scale = standard_error1) #Standard error"
   ]
  },
  {
   "cell_type": "markdown",
   "id": "2c81b8c6",
   "metadata": {},
   "source": [
    "### Similarly we can do confidence interval estimate for *Population Proportion*"
   ]
  },
  {
   "cell_type": "markdown",
   "id": "a9799dbc",
   "metadata": {},
   "source": [
    "**t-statistic**      \n",
    "\n",
    "**Let us solve problem which has low sample size.** \n",
    "\n",
    "Q1. In order to estimate the proportion of teachers with a PhD degree among all college teachers in Neverland city, a sample of 26 is drawn.   \n",
    "It is noted that only 10 of them have completed PhD.   \n",
    "Construct an Interval estimate of the Population Proportion using 99% Level of Confidence.   \n",
    "\n",
    "Sol:   here,  p = 10/26    \n",
    "n = 26 < 30, so we use t-statistic.   \n",
    "\n",
    "Summary of data:   \n",
    "\n",
    "| n        | 26 |\n",
    "|----|----|   \n",
    "|p  | 0.38426|     \n",
    "|1-$\\alpha$| 99% |   \n",
    "|$\\alpha$| 1% | \n",
    "\n",
    "\n",
    "   Standard error of Sample proportion  is Standard deviation of the sampling distribution of sample proportion,  $\\sigma _\\bar p$  = $\\sqrt {P\\frac{(1-P)}{n}}$ =  $\\sqrt {p\\frac{(1-p)}{n}}$"
   ]
  },
  {
   "cell_type": "code",
   "execution_count": 127,
   "id": "7c5b1f7f",
   "metadata": {},
   "outputs": [
    {
     "name": "stdout",
     "output_type": "stream",
     "text": [
      "Standard error:  0.09541133429939112\n",
      "t-critical is  2.787435813675851\n",
      "Sampling error:  0.26595297025672193\n",
      "Interval estimate:  (0.1186624143586627, 0.6505683548721066)\n"
     ]
    }
   ],
   "source": [
    "standard_error2 = math.sqrt((10/26)*(1-10/26)/26)\n",
    "print('Standard error: ', standard_error2)\n",
    "\n",
    "#degrees of freedom is (n-1) = 25\n",
    "t_critical1 = stats.t.ppf(q=.995, df=25)\n",
    "print('t-critical is ', t_critical1)\n",
    "\n",
    "#Sampling error\n",
    "sampling_error2 = t_critical1*standard_error2\n",
    "print('Sampling error: ', sampling_error2)\n",
    "\n",
    "#The Interval Estimate of the Population Proportion,  = Sample Proportion ± The Sampling Error = p ± t*σ_p \n",
    "interval_estimate2 = (10/26 - sampling_error2, 10/26 + sampling_error2)\n",
    "print('Interval estimate: ', interval_estimate2)"
   ]
  },
  {
   "cell_type": "code",
   "execution_count": 130,
   "id": "3d6a1397",
   "metadata": {},
   "outputs": [
    {
     "data": {
      "text/plain": [
       "(0.1186624143586627, 0.6505683548721066)"
      ]
     },
     "execution_count": 130,
     "metadata": {},
     "output_type": "execute_result"
    }
   ],
   "source": [
    "stats.t.interval(alpha=.99,#Confidence level\n",
    "                 df=25,#Degrees of freedom\n",
    "                 loc=10/26, #Point estimate of proportion\n",
    "                 scale = standard_error2) #Standard error"
   ]
  },
  {
   "cell_type": "markdown",
   "id": "c78209b2",
   "metadata": {},
   "source": [
    "**Z-Statistic**   \n",
    "\n",
    "**Q1.** In order to estimate the proportion of users of a certain brand recently launched, a sample of 300 is drawn.   \n",
    "107 of them have mentioned that they are already using the brand.   \n",
    "Construct an Interval estimate of the Population Proportion using 95% Level of Confidence.    \n",
    "\n",
    "\n",
    "Sol:   here,  p = 107/300    \n",
    "n = 300 > 30, so we use z-statistic.   \n",
    "\n",
    "Summary of data:   \n",
    "\n",
    "| n        | 300 |\n",
    "|----|----|   \n",
    "|p  | 107/300 = 0.35667|     \n",
    "|1-$\\alpha$| 95% |   \n",
    "|$\\alpha$| 5% | "
   ]
  },
  {
   "cell_type": "code",
   "execution_count": 131,
   "id": "bc18788e",
   "metadata": {},
   "outputs": [
    {
     "name": "stdout",
     "output_type": "stream",
     "text": [
      "Standard error:  0.027655955088404592\n",
      "z-critical is  1.959963984540054\n",
      "Sampling error:  0.05420467593133025\n",
      "Interval estimate:  (0.3024619907353364, 0.41087134259799696)\n"
     ]
    }
   ],
   "source": [
    "standard_error3 = math.sqrt((107/300)*(1-107/300)/300)\n",
    "print('Standard error: ', standard_error3)\n",
    "\n",
    "\n",
    "z_critical1 = stats.norm.ppf(q=.975)\n",
    "print('z-critical is ', z_critical1)\n",
    "\n",
    "#Sampling error\n",
    "sampling_error3 = z_critical1*standard_error3\n",
    "print('Sampling error: ', sampling_error3)\n",
    "\n",
    "#The Interval Estimate of the Population Proportion,  = Sample Proportion ± The Sampling Error = p ± t*σ_p \n",
    "interval_estimate3 = (107/300 - sampling_error3, 107/300 + sampling_error3)\n",
    "print('Interval estimate: ', interval_estimate3)"
   ]
  },
  {
   "cell_type": "code",
   "execution_count": 133,
   "id": "97e661e5",
   "metadata": {},
   "outputs": [
    {
     "data": {
      "text/plain": [
       "(0.3024619907353364, 0.41087134259799696)"
      ]
     },
     "execution_count": 133,
     "metadata": {},
     "output_type": "execute_result"
    }
   ],
   "source": [
    "#Directly we can do interval estimate\n",
    "\n",
    "stats.norm.interval(alpha=.95, #Confidence level\n",
    "                    loc=107/300, #sample proportion\n",
    "                     scale=standard_error3) #standard error as Scaling factor"
   ]
  },
  {
   "cell_type": "markdown",
   "id": "96d11f66",
   "metadata": {},
   "source": [
    "# Hypothesis Testing"
   ]
  },
  {
   "cell_type": "markdown",
   "id": "5d61ce29",
   "metadata": {},
   "source": [
    "1.Parametric Hypothesis Testing   \n",
    "        1.One Sample z test and t-test   \n",
    "        2.Two sample z test and t test (Using Independent and Dependent Samples)   \n",
    "        3.Comparing Population Mean of 3 or more populations using 3 or more samples using ANOVA and F Test   \n",
    "        4.Testing the Significance of Regression (Bi-Variate or Multi Variate) using ANOVA and F Test   \n",
    "2. Non-Parametric Hypothesis Testing   "
   ]
  },
  {
   "cell_type": "code",
   "execution_count": 135,
   "id": "662f0f8f",
   "metadata": {},
   "outputs": [
    {
     "data": {
      "image/jpeg": "[encoded data removed]",
      "text/plain": [
       "<IPython.core.display.Image object>"
      ]
     },
     "execution_count": 135,
     "metadata": {},
     "output_type": "execute_result"
    }
   ],
   "source": [
    "Image(filename = 'Hypo_Z.jpg')"
   ]
  },
  {
   "cell_type": "markdown",
   "id": "dfa66669",
   "metadata": {},
   "source": [
    "Q1.Average age during marriage of all the girls who got married in last 5 years in Rural Rajasthan and Haryana, is believed to \n",
    "be 16 years. An independent agency conducted a survey with a sample size of 500, and the sample mean is 14.7 years     \n",
    "with a sample SD of 2.9 Years.    \n",
    "At 10% LoS, construct a pair of hypotheses and test the same      \n",
    "\n",
    "\n",
    "Sol.   n > 30, we use z-statistic.   \n",
    "\n",
    "| n        | 500 |\n",
    "|----|----|   \n",
    "|$\\bar x$  | 14.7|     \n",
    "|s  | 2.9| \n",
    "|1-$\\alpha$| 90% |   \n",
    "|$\\alpha$| 10% |    \n",
    "\n",
    "Null Hypothesis ($H_0$): Average age during marriage of all the girls who got married in last 5 years in Rural Rajasthan and Haryana is 16 years.    \n",
    "$H_0$: $\\mu$ = 16.   \n",
    "\n",
    "**If there is an \"=\" symbol, it will be a TWO TAIL test**    \n",
    "\n",
    "Alternate Hypothesis ($H_1$): Average age during marriage of all the girls who got married in last 5 years in Rural Rajasthan and Haryana is NOT 16 years    \n",
    "$H_1: \\mu \\neq 16$    \n",
    "\n",
    "\n",
    "Standard error of sample mean:   \n",
    "$\\sigma _\\bar x$  = $\\frac{\\sigma}{\\sqrt n}$  =  $\\frac{s}{\\sqrt n}$"
   ]
  },
  {
   "cell_type": "code",
   "execution_count": 138,
   "id": "e3e60378",
   "metadata": {},
   "outputs": [
    {
     "name": "stdout",
     "output_type": "stream",
     "text": [
      "Standard error:  0.1296919426949878\n",
      "z-critical is +/-  1.6448536269514722\n",
      "Standardized value of z:  -10.02375300258527\n"
     ]
    }
   ],
   "source": [
    "\n",
    "standard_error4 = 2.9/math.sqrt(500)\n",
    "print('Standard error: ', standard_error4)\n",
    "\n",
    "\n",
    "z_critical2 = stats.norm.ppf(q=.95)\n",
    "print('z-critical is +/- ', z_critical2)\n",
    "\n",
    "#z standardized\n",
    "z_standardized = (14.7-16)/standard_error4\n",
    "print('Standardized value of z: ', z_standardized)"
   ]
  },
  {
   "cell_type": "markdown",
   "id": "39649922",
   "metadata": {},
   "source": [
    "The standardised value of z statistic (-10.0237) is falling on the LEFT TAIL of the confidence interval (± 1.645).   \n",
    "This is a two-tail test, with both left and right tails as area of rejection.    \n",
    "We reject Null Hypothesis ($H_0$) and accept Alternate Hypothesis ($H_1$).    \n"
   ]
  },
  {
   "cell_type": "markdown",
   "id": "44a564de",
   "metadata": {},
   "source": [
    "# I will be adding more in Inferential Statistics in coming days."
   ]
  },
  {
   "cell_type": "code",
   "execution_count": null,
   "id": "46ca1404",
   "metadata": {},
   "outputs": [],
   "source": []
  }
 ],
 "metadata": {
  "kernelspec": {
   "display_name": "Python 3 (ipykernel)",
   "language": "python",
   "name": "python3"
  },
  "language_info": {
   "codemirror_mode": {
    "name": "ipython",
    "version": 3
   },
   "file_extension": ".py",
   "mimetype": "text/x-python",
   "name": "python",
   "nbconvert_exporter": "python",
   "pygments_lexer": "ipython3",
   "version": "3.9.7"
  }
 },
 "nbformat": 4,
 "nbformat_minor": 5
}
