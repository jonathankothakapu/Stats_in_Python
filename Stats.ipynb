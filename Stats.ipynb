{
 "cells": [
  {
   "cell_type": "markdown",
   "id": "509ab946",
   "metadata": {},
   "source": [
    "# Statistics in Python"
   ]
  },
  {
   "cell_type": "markdown",
   "id": "9f1cebce",
   "metadata": {},
   "source": [
    "\n",
    "References:    \n",
    "1.Youtube channel [DataDaft](https://www.youtube.com/watch?v=3mELSEnGBvA&list=PLiC1doDIe9rCYWmH9wIEYEXXaJ4KAi3jc&index=21)    \n",
    "2. https://www.statology.org/binomial-distribution-python/    \n",
    "3. [Markdown guide](https://www.markdownguide.org/basic-syntax/#links)    \n",
    "4. Youtube channel [ACADGILD](https://www.youtube.com/watch?v=TYlWj4JuA7w&list=PLlz0muypSBNZXEDDy7RftBdIJNHEN0t1a)   \n",
    "5. Linear Regression [edureka](https://www.youtube.com/watch?v=E5RjzSK0fvY)   \n",
    "6. My Class notebook\n",
    "\n",
    "\n",
    "\n",
    "Libraries used: numpy, statistics, pandas, matplotlib, scipy, IPython.display (For Images)   "
   ]
  },
  {
   "cell_type": "markdown",
   "id": "8e9b170e",
   "metadata": {},
   "source": [
    "# Topics   \n",
    "1. [**Central Tendency**](#Part-1)    \n",
    "    **Mean, Mode, Median**    \n",
    "    \n",
    "    \n",
    "2. [**Measure of Spread**](#Part-2)     \n",
    "    **Range   \n",
    "     Quartile  \n",
    "     Variance   \n",
    "    Standard Deviation**\n",
    "\n",
    "\n",
    "3. [**Skewness and kurtosis**](#Part-3)   \n",
    "\n",
    "\n",
    "4. [**Linear Regression**](#Linear-Regression)   \n",
    "\n",
    "\n",
    "5. [Probability](#Probability)       \n",
    "    **Uniform Distribution   \n",
    "    Binomial Distribution   \n",
    "    Poisson Distribution   \n",
    "    Normal Distribution**\n",
    "\n",
    "\n"
   ]
  },
  {
   "cell_type": "markdown",
   "id": "8eca8674",
   "metadata": {},
   "source": [
    "## Part 1     \n",
    "**Central Tendency**    \n",
    "**Mean, Mode, Median**"
   ]
  },
  {
   "cell_type": "code",
   "execution_count": 1,
   "id": "f6cfe63e",
   "metadata": {},
   "outputs": [],
   "source": [
    "import numpy as np\n",
    "import matplotlib.pyplot as plt\n",
    "\n",
    "#for visualization in Notebook\n",
    "%matplotlib inline "
   ]
  },
  {
   "cell_type": "markdown",
   "id": "541f1f2c",
   "metadata": {},
   "source": [
    "**Take a random set**"
   ]
  },
  {
   "cell_type": "code",
   "execution_count": 2,
   "id": "ddd00cd5",
   "metadata": {},
   "outputs": [],
   "source": [
    "s = np.random.randint(5,11,20)"
   ]
  },
  {
   "cell_type": "code",
   "execution_count": 3,
   "id": "3b700fb4",
   "metadata": {},
   "outputs": [
    {
     "data": {
      "text/plain": [
       "array([10,  5,  6, 10,  6,  8,  5,  8,  7,  7,  6,  8,  9,  8,  9,  7,  9,\n",
       "        8,  6,  7])"
      ]
     },
     "execution_count": 3,
     "metadata": {},
     "output_type": "execute_result"
    }
   ],
   "source": [
    "s"
   ]
  },
  {
   "cell_type": "markdown",
   "id": "51e883e3",
   "metadata": {},
   "source": [
    "**Mean**"
   ]
  },
  {
   "cell_type": "code",
   "execution_count": 4,
   "id": "d6c339cd",
   "metadata": {},
   "outputs": [
    {
     "data": {
      "text/plain": [
       "7.45"
      ]
     },
     "execution_count": 4,
     "metadata": {},
     "output_type": "execute_result"
    }
   ],
   "source": [
    "np.mean(s)"
   ]
  },
  {
   "cell_type": "markdown",
   "id": "9089dc9c",
   "metadata": {},
   "source": [
    "**Median**"
   ]
  },
  {
   "cell_type": "code",
   "execution_count": 5,
   "id": "8f47c5ec",
   "metadata": {},
   "outputs": [
    {
     "data": {
      "text/plain": [
       "7.5"
      ]
     },
     "execution_count": 5,
     "metadata": {},
     "output_type": "execute_result"
    }
   ],
   "source": [
    "np.median(s)"
   ]
  },
  {
   "cell_type": "code",
   "execution_count": 6,
   "id": "48eb21c2",
   "metadata": {},
   "outputs": [
    {
     "data": {
      "text/plain": [
       "array([ 5,  5,  6,  6,  6,  6,  7,  7,  7,  7,  8,  8,  8,  8,  8,  9,  9,\n",
       "        9, 10, 10])"
      ]
     },
     "execution_count": 6,
     "metadata": {},
     "output_type": "execute_result"
    }
   ],
   "source": [
    "s.sort() # not needed, but if you want to sort\n",
    "s"
   ]
  },
  {
   "cell_type": "markdown",
   "id": "5d163d84",
   "metadata": {},
   "source": [
    "**Mode**"
   ]
  },
  {
   "cell_type": "code",
   "execution_count": 7,
   "id": "8fca107b",
   "metadata": {},
   "outputs": [
    {
     "data": {
      "text/plain": [
       "8"
      ]
     },
     "execution_count": 7,
     "metadata": {},
     "output_type": "execute_result"
    }
   ],
   "source": [
    "# No mode function in matplotlib\n",
    "from statistics import mode\n",
    "mode(s)"
   ]
  },
  {
   "cell_type": "code",
   "execution_count": 8,
   "id": "8c16ff9b",
   "metadata": {},
   "outputs": [
    {
     "data": {
      "image/png": "[encoded data removed]",
      "text/plain": [
       "<Figure size 432x288 with 1 Axes>"
      ]
     },
     "metadata": {
      "needs_background": "light"
     },
     "output_type": "display_data"
    }
   ],
   "source": [
    "plt.hist(s)\n",
    "plt.show()"
   ]
  },
  {
   "cell_type": "markdown",
   "id": "f718e8a0",
   "metadata": {},
   "source": [
    "### Populaltion and Sample"
   ]
  },
  {
   "cell_type": "code",
   "execution_count": 9,
   "id": "ddbc1a89",
   "metadata": {},
   "outputs": [
    {
     "data": {
      "text/plain": [
       "array([ 65,  83,  41,  79,  12,  55,  99,  39,  67,  82,  93,  79,  75,\n",
       "        58,  60,   7,   2,  61,  33,  65,  83,   5,  98,  99,  65,  67,\n",
       "        42,  36,  40,  91,  26,  23,   1,  73,  44,  52,  93,  68,  87,\n",
       "         7,  84,  18,  23,  63,  29,  45,  93,  44,  89,  70,  25,  62,\n",
       "        94,  58,  16,   7,  55,  28,  88,  47,   2,  17,  80,  27,  65,\n",
       "        67,   5,  73,  42,  24,  74,  99,  55,  54,  58,  41,  23,  92,\n",
       "         7,  41, 100,  89,  33,  34,  87,  41,  42,  55,   6,  77,  52,\n",
       "        41,  45,  93,  58,  30,  60,  82,  62,  49])"
      ]
     },
     "execution_count": 9,
     "metadata": {},
     "output_type": "execute_result"
    }
   ],
   "source": [
    "pop = np.random.randint(1,101,100)\n",
    "pop"
   ]
  },
  {
   "cell_type": "code",
   "execution_count": 10,
   "id": "0eff0d85",
   "metadata": {},
   "outputs": [
    {
     "data": {
      "text/plain": [
       "53.75"
      ]
     },
     "execution_count": 10,
     "metadata": {},
     "output_type": "execute_result"
    }
   ],
   "source": [
    "# Mean\n",
    "np.mean(pop)"
   ]
  },
  {
   "cell_type": "code",
   "execution_count": 11,
   "id": "417dc0b7",
   "metadata": {},
   "outputs": [
    {
     "data": {
      "text/plain": [
       "55.0"
      ]
     },
     "execution_count": 11,
     "metadata": {},
     "output_type": "execute_result"
    }
   ],
   "source": [
    "# Median\n",
    "np.median(pop)"
   ]
  },
  {
   "cell_type": "code",
   "execution_count": 12,
   "id": "90be0ade",
   "metadata": {},
   "outputs": [
    {
     "data": {
      "text/plain": [
       "41"
      ]
     },
     "execution_count": 12,
     "metadata": {},
     "output_type": "execute_result"
    }
   ],
   "source": [
    "# Mode\n",
    "from statistics import mode\n",
    "mode(pop)"
   ]
  },
  {
   "cell_type": "markdown",
   "id": "30bec001",
   "metadata": {},
   "source": [
    "**Sample**"
   ]
  },
  {
   "cell_type": "code",
   "execution_count": 13,
   "id": "d93a48d9",
   "metadata": {},
   "outputs": [
    {
     "data": {
      "text/plain": [
       "array([ 44,  65,  93,  65,  73,  88,  93,  30,  42,  47,  77,  67,  44,\n",
       "         1,  41,  45,  99,  84,  63,  87,  33, 100,  39,   1,  17,  82,\n",
       "         2,   7,  39,  67])"
      ]
     },
     "execution_count": 13,
     "metadata": {},
     "output_type": "execute_result"
    }
   ],
   "source": [
    "sample = np.random.choice(pop, 30)\n",
    "sample"
   ]
  },
  {
   "cell_type": "code",
   "execution_count": 14,
   "id": "0f79f3e7",
   "metadata": {},
   "outputs": [
    {
     "data": {
      "text/plain": [
       "54.5"
      ]
     },
     "execution_count": 14,
     "metadata": {},
     "output_type": "execute_result"
    }
   ],
   "source": [
    "# Sample mean\n",
    "np.mean(sample)"
   ]
  },
  {
   "cell_type": "code",
   "execution_count": 15,
   "id": "d3d526b8",
   "metadata": {},
   "outputs": [
    {
     "data": {
      "text/plain": [
       "55.0"
      ]
     },
     "execution_count": 15,
     "metadata": {},
     "output_type": "execute_result"
    }
   ],
   "source": [
    "# Sample Median\n",
    "np.median(sample)"
   ]
  },
  {
   "cell_type": "code",
   "execution_count": 16,
   "id": "8bdd9ac1",
   "metadata": {},
   "outputs": [
    {
     "data": {
      "text/plain": [
       "44"
      ]
     },
     "execution_count": 16,
     "metadata": {},
     "output_type": "execute_result"
    }
   ],
   "source": [
    "mode(sample)"
   ]
  },
  {
   "cell_type": "markdown",
   "id": "b09b9b7c",
   "metadata": {},
   "source": [
    "**Choosing random samples from pop of fixed size (here, size 30)**"
   ]
  },
  {
   "cell_type": "code",
   "execution_count": 17,
   "id": "1859af1d",
   "metadata": {},
   "outputs": [],
   "source": [
    "sample_1 = np.random.choice(pop, 30)\n",
    "sample_2 = np.random.choice(pop, 30)\n",
    "sample_3 = np.random.choice(pop, 30)\n",
    "sample_4 = np.random.choice(pop, 30)"
   ]
  },
  {
   "cell_type": "markdown",
   "id": "b27645c4",
   "metadata": {},
   "source": [
    "***Sampling of Sample mean***"
   ]
  },
  {
   "cell_type": "code",
   "execution_count": 18,
   "id": "5175d3b6",
   "metadata": {},
   "outputs": [],
   "source": [
    "all_samples = [sample, sample_1, sample_2, sample_3, sample_4]\n",
    "sample_mean = []\n",
    "for i in all_samples:\n",
    "    sample_mean.append(round(np.mean(i),3))\n",
    "    "
   ]
  },
  {
   "cell_type": "code",
   "execution_count": 19,
   "id": "2f5609e1",
   "metadata": {},
   "outputs": [
    {
     "data": {
      "text/plain": [
       "[54.5, 62.5, 56.667, 57.2, 51.5]"
      ]
     },
     "execution_count": 19,
     "metadata": {},
     "output_type": "execute_result"
    }
   ],
   "source": [
    "sample_mean"
   ]
  },
  {
   "cell_type": "markdown",
   "id": "18016759",
   "metadata": {},
   "source": [
    "***Mean of samples comapred to Population***"
   ]
  },
  {
   "cell_type": "code",
   "execution_count": 20,
   "id": "6b0f3d6b",
   "metadata": {},
   "outputs": [
    {
     "data": {
      "text/plain": [
       "53.75"
      ]
     },
     "execution_count": 20,
     "metadata": {},
     "output_type": "execute_result"
    }
   ],
   "source": [
    "np.mean(pop)"
   ]
  },
  {
   "cell_type": "code",
   "execution_count": 21,
   "id": "07728eff",
   "metadata": {},
   "outputs": [
    {
     "data": {
      "text/plain": [
       "56.473400000000005"
      ]
     },
     "execution_count": 21,
     "metadata": {},
     "output_type": "execute_result"
    }
   ],
   "source": [
    "np.mean(sample_mean)"
   ]
  },
  {
   "cell_type": "markdown",
   "id": "9bda5e3b",
   "metadata": {},
   "source": [
    "# Part 2"
   ]
  },
  {
   "cell_type": "markdown",
   "id": "a038e770",
   "metadata": {},
   "source": [
    "**Measure of Spread**     \n",
    "**1. Range**   \n",
    "**2. Quartile**   \n",
    "**3. Variance**   \n",
    "**4. Standard Deviation**\n"
   ]
  },
  {
   "cell_type": "code",
   "execution_count": 22,
   "id": "d048942b",
   "metadata": {},
   "outputs": [
    {
     "data": {
      "text/plain": [
       "array([ 5,  5,  6,  6,  6,  6,  7,  7,  7,  7,  8,  8,  8,  8,  8,  9,  9,\n",
       "        9, 10, 10])"
      ]
     },
     "execution_count": 22,
     "metadata": {},
     "output_type": "execute_result"
    }
   ],
   "source": [
    "s"
   ]
  },
  {
   "cell_type": "markdown",
   "id": "538131c5",
   "metadata": {},
   "source": [
    "**1. Range**"
   ]
  },
  {
   "cell_type": "code",
   "execution_count": 23,
   "id": "5628fed9",
   "metadata": {},
   "outputs": [
    {
     "data": {
      "text/plain": [
       "5"
      ]
     },
     "execution_count": 23,
     "metadata": {},
     "output_type": "execute_result"
    }
   ],
   "source": [
    "#Range\n",
    "s.max() - s.min()"
   ]
  },
  {
   "cell_type": "code",
   "execution_count": 24,
   "id": "29791407",
   "metadata": {},
   "outputs": [
    {
     "data": {
      "text/plain": [
       "5"
      ]
     },
     "execution_count": 24,
     "metadata": {},
     "output_type": "execute_result"
    }
   ],
   "source": [
    "#using numpy\n",
    "np.max(s)-np.min(s)"
   ]
  },
  {
   "cell_type": "markdown",
   "id": "269bacd7",
   "metadata": {},
   "source": [
    "**2. Quartile**"
   ]
  },
  {
   "cell_type": "code",
   "execution_count": 25,
   "id": "a586ab30",
   "metadata": {},
   "outputs": [
    {
     "data": {
      "text/plain": [
       "6.0"
      ]
     },
     "execution_count": 25,
     "metadata": {},
     "output_type": "execute_result"
    }
   ],
   "source": [
    "#First Quartile\n",
    "Q1 = np.percentile(s,25)\n",
    "Q1"
   ]
  },
  {
   "cell_type": "code",
   "execution_count": 26,
   "id": "141cc9a8",
   "metadata": {},
   "outputs": [
    {
     "data": {
      "text/plain": [
       "7.5"
      ]
     },
     "execution_count": 26,
     "metadata": {},
     "output_type": "execute_result"
    }
   ],
   "source": [
    "Q2 = np.percentile(s,50)\n",
    "Q2"
   ]
  },
  {
   "cell_type": "code",
   "execution_count": 27,
   "id": "8a4ac898",
   "metadata": {},
   "outputs": [
    {
     "data": {
      "text/plain": [
       "8.25"
      ]
     },
     "execution_count": 27,
     "metadata": {},
     "output_type": "execute_result"
    }
   ],
   "source": [
    "Q3 = np.percentile(s,75)\n",
    "Q3"
   ]
  },
  {
   "cell_type": "markdown",
   "id": "d59ba6c1",
   "metadata": {},
   "source": [
    "**3. Inter-Quartile Range**   \n",
    "IQR = Q3 - Q1"
   ]
  },
  {
   "cell_type": "code",
   "execution_count": 28,
   "id": "aae1bd99",
   "metadata": {},
   "outputs": [
    {
     "data": {
      "text/plain": [
       "2.25"
      ]
     },
     "execution_count": 28,
     "metadata": {},
     "output_type": "execute_result"
    }
   ],
   "source": [
    "IQR = Q3 - Q1\n",
    "IQR"
   ]
  },
  {
   "cell_type": "code",
   "execution_count": 29,
   "id": "5d11c3de",
   "metadata": {},
   "outputs": [
    {
     "data": {
      "image/png": "[encoded data removed]",
      "text/plain": [
       "<Figure size 432x288 with 1 Axes>"
      ]
     },
     "metadata": {
      "needs_background": "light"
     },
     "output_type": "display_data"
    }
   ],
   "source": [
    "#Boxplot\n",
    "plt.boxplot(s)\n",
    "plt.show()"
   ]
  },
  {
   "cell_type": "markdown",
   "id": "4f4c7292",
   "metadata": {},
   "source": [
    "**4. Variance**   \n",
    "We have to use Unbiased Estimator (n-1) for sample   \n",
    "Refer for Unbiased Estimator: https://www.youtube.com/watch?v=D1hgiAla3KI   "
   ]
  },
  {
   "cell_type": "code",
   "execution_count": 30,
   "id": "20880814",
   "metadata": {},
   "outputs": [
    {
     "data": {
      "text/plain": [
       "array([ 65,  83,  41,  79,  12,  55,  99,  39,  67,  82,  93,  79,  75,\n",
       "        58,  60,   7,   2,  61,  33,  65,  83,   5,  98,  99,  65,  67,\n",
       "        42,  36,  40,  91,  26,  23,   1,  73,  44,  52,  93,  68,  87,\n",
       "         7,  84,  18,  23,  63,  29,  45,  93,  44,  89,  70,  25,  62,\n",
       "        94,  58,  16,   7,  55,  28,  88,  47,   2,  17,  80,  27,  65,\n",
       "        67,   5,  73,  42,  24,  74,  99,  55,  54,  58,  41,  23,  92,\n",
       "         7,  41, 100,  89,  33,  34,  87,  41,  42,  55,   6,  77,  52,\n",
       "        41,  45,  93,  58,  30,  60,  82,  62,  49])"
      ]
     },
     "execution_count": 30,
     "metadata": {},
     "output_type": "execute_result"
    }
   ],
   "source": [
    "pop"
   ]
  },
  {
   "cell_type": "code",
   "execution_count": 31,
   "id": "9d0f2d91",
   "metadata": {},
   "outputs": [
    {
     "data": {
      "text/plain": [
       "array([ 44,  65,  93,  65,  73,  88,  93,  30,  42,  47,  77,  67,  44,\n",
       "         1,  41,  45,  99,  84,  63,  87,  33, 100,  39,   1,  17,  82,\n",
       "         2,   7,  39,  67])"
      ]
     },
     "execution_count": 31,
     "metadata": {},
     "output_type": "execute_result"
    }
   ],
   "source": [
    "# Sample is taken from pop\n",
    "sample"
   ]
  },
  {
   "cell_type": "code",
   "execution_count": 32,
   "id": "5afcb26f",
   "metadata": {},
   "outputs": [
    {
     "data": {
      "text/plain": [
       "782.0475"
      ]
     },
     "execution_count": 32,
     "metadata": {},
     "output_type": "execute_result"
    }
   ],
   "source": [
    "#by default var() calculates for population\n",
    "np.var(pop)"
   ]
  },
  {
   "cell_type": "code",
   "execution_count": 33,
   "id": "993ceba4",
   "metadata": {},
   "outputs": [
    {
     "data": {
      "text/plain": [
       "919.5"
      ]
     },
     "execution_count": 33,
     "metadata": {},
     "output_type": "execute_result"
    }
   ],
   "source": [
    "# use ddof=1, for sample\n",
    "#Refer:  https://machinelearningmastery.com/introduction-to-expected-value-variance-and-covariance/\n",
    "np.var(sample, ddof=1)"
   ]
  },
  {
   "cell_type": "markdown",
   "id": "199e4326",
   "metadata": {},
   "source": [
    "**4. Standard Deviation**"
   ]
  },
  {
   "cell_type": "code",
   "execution_count": 34,
   "id": "cb5aaa16",
   "metadata": {},
   "outputs": [
    {
     "data": {
      "text/plain": [
       "27.965112193588638"
      ]
     },
     "execution_count": 34,
     "metadata": {},
     "output_type": "execute_result"
    }
   ],
   "source": [
    "# for population\n",
    "np.std(pop)"
   ]
  },
  {
   "cell_type": "code",
   "execution_count": 35,
   "id": "3eea1c02",
   "metadata": {},
   "outputs": [
    {
     "data": {
      "text/plain": [
       "30.32325840011261"
      ]
     },
     "execution_count": 35,
     "metadata": {},
     "output_type": "execute_result"
    }
   ],
   "source": [
    "# for sample\n",
    "np.std(sample, ddof=1)"
   ]
  },
  {
   "cell_type": "markdown",
   "id": "73cf8026",
   "metadata": {},
   "source": [
    "# Part 3"
   ]
  },
  {
   "cell_type": "markdown",
   "id": "e32e1eaa",
   "metadata": {},
   "source": [
    "**1. Descritptive stats using a dataframe**    \n",
    "*Using pandas*   \n",
    "**2. Skewness and Kurtosis**"
   ]
  },
  {
   "cell_type": "code",
   "execution_count": 36,
   "id": "a0e1bbdd",
   "metadata": {},
   "outputs": [],
   "source": [
    "import pandas as pd"
   ]
  },
  {
   "cell_type": "code",
   "execution_count": 37,
   "id": "5b1764ff",
   "metadata": {},
   "outputs": [
    {
     "data": {
      "text/html": [
       "<div>\n",
       "<style scoped>\n",
       "    .dataframe tbody tr th:only-of-type {\n",
       "        vertical-align: middle;\n",
       "    }\n",
       "\n",
       "    .dataframe tbody tr th {\n",
       "        vertical-align: top;\n",
       "    }\n",
       "\n",
       "    .dataframe thead th {\n",
       "        text-align: right;\n",
       "    }\n",
       "</style>\n",
       "<table border=\"1\" class=\"dataframe\">\n",
       "  <thead>\n",
       "    <tr style=\"text-align: right;\">\n",
       "      <th></th>\n",
       "      <th>id</th>\n",
       "      <th>age</th>\n",
       "      <th>Height</th>\n",
       "    </tr>\n",
       "  </thead>\n",
       "  <tbody>\n",
       "    <tr>\n",
       "      <th>0</th>\n",
       "      <td>0</td>\n",
       "      <td>12</td>\n",
       "      <td>48</td>\n",
       "    </tr>\n",
       "    <tr>\n",
       "      <th>1</th>\n",
       "      <td>1</td>\n",
       "      <td>13</td>\n",
       "      <td>47</td>\n",
       "    </tr>\n",
       "    <tr>\n",
       "      <th>2</th>\n",
       "      <td>2</td>\n",
       "      <td>14</td>\n",
       "      <td>70</td>\n",
       "    </tr>\n",
       "    <tr>\n",
       "      <th>3</th>\n",
       "      <td>3</td>\n",
       "      <td>14</td>\n",
       "      <td>60</td>\n",
       "    </tr>\n",
       "    <tr>\n",
       "      <th>4</th>\n",
       "      <td>4</td>\n",
       "      <td>15</td>\n",
       "      <td>47</td>\n",
       "    </tr>\n",
       "    <tr>\n",
       "      <th>5</th>\n",
       "      <td>5</td>\n",
       "      <td>16</td>\n",
       "      <td>70</td>\n",
       "    </tr>\n",
       "    <tr>\n",
       "      <th>6</th>\n",
       "      <td>6</td>\n",
       "      <td>16</td>\n",
       "      <td>65</td>\n",
       "    </tr>\n",
       "    <tr>\n",
       "      <th>7</th>\n",
       "      <td>7</td>\n",
       "      <td>16</td>\n",
       "      <td>70</td>\n",
       "    </tr>\n",
       "    <tr>\n",
       "      <th>8</th>\n",
       "      <td>8</td>\n",
       "      <td>17</td>\n",
       "      <td>55</td>\n",
       "    </tr>\n",
       "    <tr>\n",
       "      <th>9</th>\n",
       "      <td>9</td>\n",
       "      <td>18</td>\n",
       "      <td>54</td>\n",
       "    </tr>\n",
       "    <tr>\n",
       "      <th>10</th>\n",
       "      <td>10</td>\n",
       "      <td>19</td>\n",
       "      <td>50</td>\n",
       "    </tr>\n",
       "    <tr>\n",
       "      <th>11</th>\n",
       "      <td>11</td>\n",
       "      <td>20</td>\n",
       "      <td>64</td>\n",
       "    </tr>\n",
       "  </tbody>\n",
       "</table>\n",
       "</div>"
      ],
      "text/plain": [
       "    id  age  Height\n",
       "0    0   12      48\n",
       "1    1   13      47\n",
       "2    2   14      70\n",
       "3    3   14      60\n",
       "4    4   15      47\n",
       "5    5   16      70\n",
       "6    6   16      65\n",
       "7    7   16      70\n",
       "8    8   17      55\n",
       "9    9   18      54\n",
       "10  10   19      50\n",
       "11  11   20      64"
      ]
     },
     "execution_count": 37,
     "metadata": {},
     "output_type": "execute_result"
    }
   ],
   "source": [
    "df = pd.DataFrame(dict(id=range(12), age=(12, 13, 14, 14, 15, 16, 16, 16, 17, 18, 19, 20), Height=(48,47,70,60,47,70, 65, 70, 55, 54,50, 64)))\n",
    "df1 = df\n",
    "df1"
   ]
  },
  {
   "cell_type": "code",
   "execution_count": 38,
   "id": "0fa93258",
   "metadata": {},
   "outputs": [
    {
     "data": {
      "text/plain": [
       "15.833333333333334"
      ]
     },
     "execution_count": 38,
     "metadata": {},
     "output_type": "execute_result"
    }
   ],
   "source": [
    "#Mean\n",
    "df1.age.mean()"
   ]
  },
  {
   "cell_type": "code",
   "execution_count": 39,
   "id": "d28dd67e",
   "metadata": {},
   "outputs": [
    {
     "data": {
      "text/plain": [
       "15.833333333333334"
      ]
     },
     "execution_count": 39,
     "metadata": {},
     "output_type": "execute_result"
    }
   ],
   "source": [
    "df1[\"age\"].mean() "
   ]
  },
  {
   "cell_type": "code",
   "execution_count": 40,
   "id": "317f7f05",
   "metadata": {},
   "outputs": [
    {
     "data": {
      "text/plain": [
       "id         5.500000\n",
       "age       15.833333\n",
       "Height    58.333333\n",
       "dtype: float64"
      ]
     },
     "execution_count": 40,
     "metadata": {},
     "output_type": "execute_result"
    }
   ],
   "source": [
    "#Gives mean for all columns\n",
    "df1.mean()"
   ]
  },
  {
   "cell_type": "code",
   "execution_count": 41,
   "id": "83a82049",
   "metadata": {},
   "outputs": [
    {
     "data": {
      "text/plain": [
       "16.0"
      ]
     },
     "execution_count": 41,
     "metadata": {},
     "output_type": "execute_result"
    }
   ],
   "source": [
    "#Median\n",
    "df1.age.median()"
   ]
  },
  {
   "cell_type": "code",
   "execution_count": 42,
   "id": "40f56311",
   "metadata": {},
   "outputs": [
    {
     "data": {
      "text/plain": [
       "0    16\n",
       "dtype: int64"
      ]
     },
     "execution_count": 42,
     "metadata": {},
     "output_type": "execute_result"
    }
   ],
   "source": [
    "#from pandas lib\n",
    "df1.age.mode()"
   ]
  },
  {
   "cell_type": "code",
   "execution_count": 43,
   "id": "c948a4c4",
   "metadata": {},
   "outputs": [
    {
     "data": {
      "text/plain": [
       "5.787878787878788"
      ]
     },
     "execution_count": 43,
     "metadata": {},
     "output_type": "execute_result"
    }
   ],
   "source": [
    "#Variance\n",
    "df1.age.var()"
   ]
  },
  {
   "cell_type": "code",
   "execution_count": 44,
   "id": "01770c59",
   "metadata": {},
   "outputs": [
    {
     "data": {
      "text/plain": [
       "2.4058010698889443"
      ]
     },
     "execution_count": 44,
     "metadata": {},
     "output_type": "execute_result"
    }
   ],
   "source": [
    "#Standard Deviation\n",
    "df1.age.std()"
   ]
  },
  {
   "cell_type": "code",
   "execution_count": 45,
   "id": "b0a7e403",
   "metadata": {},
   "outputs": [
    {
     "data": {
      "text/plain": [
       "<AxesSubplot:>"
      ]
     },
     "execution_count": 45,
     "metadata": {},
     "output_type": "execute_result"
    },
    {
     "data": {
      "image/png": "[encoded data removed]",
      "text/plain": [
       "<Figure size 432x288 with 1 Axes>"
      ]
     },
     "metadata": {
      "needs_background": "light"
     },
     "output_type": "display_data"
    }
   ],
   "source": [
    "df1.boxplot(column = \"age\", return_type=\"axes\", showmeans=True )"
   ]
  },
  {
   "cell_type": "markdown",
   "id": "8fe2bc8c",
   "metadata": {},
   "source": [
    "**2. Skewness and Kurtosis**"
   ]
  },
  {
   "cell_type": "code",
   "execution_count": 46,
   "id": "72c84cea",
   "metadata": {},
   "outputs": [
    {
     "data": {
      "image/png": "[encoded data removed]",
      "text/plain": [
       "<IPython.core.display.Image object>"
      ]
     },
     "execution_count": 46,
     "metadata": {},
     "output_type": "execute_result"
    }
   ],
   "source": [
    "from IPython.display import Image\n",
    "Image(filename = 'Skew_Kurt.png')"
   ]
  },
  {
   "cell_type": "code",
   "execution_count": 47,
   "id": "3ae950d0",
   "metadata": {},
   "outputs": [
    {
     "data": {
      "text/plain": [
       "0.18715669626229528"
      ]
     },
     "execution_count": 47,
     "metadata": {},
     "output_type": "execute_result"
    }
   ],
   "source": [
    "#Skewness\n",
    "df1[\"age\"].skew()"
   ]
  },
  {
   "cell_type": "code",
   "execution_count": 48,
   "id": "e799af2f",
   "metadata": {},
   "outputs": [
    {
     "data": {
      "text/plain": [
       "-0.6028124229050746"
      ]
     },
     "execution_count": 48,
     "metadata": {},
     "output_type": "execute_result"
    }
   ],
   "source": [
    "#Kurtosis\n",
    "df1[\"age\"].kurt()"
   ]
  },
  {
   "cell_type": "markdown",
   "id": "3506c874",
   "metadata": {},
   "source": [
    "**Correlation**"
   ]
  },
  {
   "cell_type": "code",
   "execution_count": 49,
   "id": "6a725249",
   "metadata": {},
   "outputs": [
    {
     "data": {
      "text/html": [
       "<div>\n",
       "<style scoped>\n",
       "    .dataframe tbody tr th:only-of-type {\n",
       "        vertical-align: middle;\n",
       "    }\n",
       "\n",
       "    .dataframe tbody tr th {\n",
       "        vertical-align: top;\n",
       "    }\n",
       "\n",
       "    .dataframe thead th {\n",
       "        text-align: right;\n",
       "    }\n",
       "</style>\n",
       "<table border=\"1\" class=\"dataframe\">\n",
       "  <thead>\n",
       "    <tr style=\"text-align: right;\">\n",
       "      <th></th>\n",
       "      <th>id</th>\n",
       "      <th>age</th>\n",
       "      <th>Height</th>\n",
       "    </tr>\n",
       "  </thead>\n",
       "  <tbody>\n",
       "    <tr>\n",
       "      <th>id</th>\n",
       "      <td>1.000000</td>\n",
       "      <td>0.985153</td>\n",
       "      <td>0.176291</td>\n",
       "    </tr>\n",
       "    <tr>\n",
       "      <th>age</th>\n",
       "      <td>0.985153</td>\n",
       "      <td>1.000000</td>\n",
       "      <td>0.185622</td>\n",
       "    </tr>\n",
       "    <tr>\n",
       "      <th>Height</th>\n",
       "      <td>0.176291</td>\n",
       "      <td>0.185622</td>\n",
       "      <td>1.000000</td>\n",
       "    </tr>\n",
       "  </tbody>\n",
       "</table>\n",
       "</div>"
      ],
      "text/plain": [
       "              id       age    Height\n",
       "id      1.000000  0.985153  0.176291\n",
       "age     0.985153  1.000000  0.185622\n",
       "Height  0.176291  0.185622  1.000000"
      ]
     },
     "execution_count": 49,
     "metadata": {},
     "output_type": "execute_result"
    }
   ],
   "source": [
    "#From pandas lib\n",
    "#default is Pearson\n",
    "df1.corr()"
   ]
  },
  {
   "cell_type": "code",
   "execution_count": 50,
   "id": "e201a9d0",
   "metadata": {},
   "outputs": [
    {
     "data": {
      "text/html": [
       "<div>\n",
       "<style scoped>\n",
       "    .dataframe tbody tr th:only-of-type {\n",
       "        vertical-align: middle;\n",
       "    }\n",
       "\n",
       "    .dataframe tbody tr th {\n",
       "        vertical-align: top;\n",
       "    }\n",
       "\n",
       "    .dataframe thead th {\n",
       "        text-align: right;\n",
       "    }\n",
       "</style>\n",
       "<table border=\"1\" class=\"dataframe\">\n",
       "  <thead>\n",
       "    <tr style=\"text-align: right;\">\n",
       "      <th></th>\n",
       "      <th>id</th>\n",
       "      <th>age</th>\n",
       "      <th>Height</th>\n",
       "    </tr>\n",
       "  </thead>\n",
       "  <tbody>\n",
       "    <tr>\n",
       "      <th>id</th>\n",
       "      <td>1.000000</td>\n",
       "      <td>0.969223</td>\n",
       "      <td>0.062531</td>\n",
       "    </tr>\n",
       "    <tr>\n",
       "      <th>age</th>\n",
       "      <td>0.969223</td>\n",
       "      <td>1.000000</td>\n",
       "      <td>0.080645</td>\n",
       "    </tr>\n",
       "    <tr>\n",
       "      <th>Height</th>\n",
       "      <td>0.062531</td>\n",
       "      <td>0.080645</td>\n",
       "      <td>1.000000</td>\n",
       "    </tr>\n",
       "  </tbody>\n",
       "</table>\n",
       "</div>"
      ],
      "text/plain": [
       "              id       age    Height\n",
       "id      1.000000  0.969223  0.062531\n",
       "age     0.969223  1.000000  0.080645\n",
       "Height  0.062531  0.080645  1.000000"
      ]
     },
     "execution_count": 50,
     "metadata": {},
     "output_type": "execute_result"
    }
   ],
   "source": [
    "# Kendall Correlation\n",
    "df1.corr(method='kendall')"
   ]
  },
  {
   "cell_type": "code",
   "execution_count": 51,
   "id": "26650f3f",
   "metadata": {},
   "outputs": [
    {
     "data": {
      "text/html": [
       "<div>\n",
       "<style scoped>\n",
       "    .dataframe tbody tr th:only-of-type {\n",
       "        vertical-align: middle;\n",
       "    }\n",
       "\n",
       "    .dataframe tbody tr th {\n",
       "        vertical-align: top;\n",
       "    }\n",
       "\n",
       "    .dataframe thead th {\n",
       "        text-align: right;\n",
       "    }\n",
       "</style>\n",
       "<table border=\"1\" class=\"dataframe\">\n",
       "  <thead>\n",
       "    <tr style=\"text-align: right;\">\n",
       "      <th></th>\n",
       "      <th>id</th>\n",
       "      <th>age</th>\n",
       "      <th>Height</th>\n",
       "    </tr>\n",
       "  </thead>\n",
       "  <tbody>\n",
       "    <tr>\n",
       "      <th>id</th>\n",
       "      <td>1.000000</td>\n",
       "      <td>0.991220</td>\n",
       "      <td>0.201066</td>\n",
       "    </tr>\n",
       "    <tr>\n",
       "      <th>age</th>\n",
       "      <td>0.991220</td>\n",
       "      <td>1.000000</td>\n",
       "      <td>0.217082</td>\n",
       "    </tr>\n",
       "    <tr>\n",
       "      <th>Height</th>\n",
       "      <td>0.201066</td>\n",
       "      <td>0.217082</td>\n",
       "      <td>1.000000</td>\n",
       "    </tr>\n",
       "  </tbody>\n",
       "</table>\n",
       "</div>"
      ],
      "text/plain": [
       "              id       age    Height\n",
       "id      1.000000  0.991220  0.201066\n",
       "age     0.991220  1.000000  0.217082\n",
       "Height  0.201066  0.217082  1.000000"
      ]
     },
     "execution_count": 51,
     "metadata": {},
     "output_type": "execute_result"
    }
   ],
   "source": [
    "#Spearman\n",
    "df1.corr(method='spearman')"
   ]
  },
  {
   "cell_type": "markdown",
   "id": "cffd049f",
   "metadata": {},
   "source": [
    "# Linear Regression"
   ]
  },
  {
   "cell_type": "code",
   "execution_count": 52,
   "id": "403ce96d",
   "metadata": {},
   "outputs": [
    {
     "data": {
      "text/html": [
       "<div>\n",
       "<style scoped>\n",
       "    .dataframe tbody tr th:only-of-type {\n",
       "        vertical-align: middle;\n",
       "    }\n",
       "\n",
       "    .dataframe tbody tr th {\n",
       "        vertical-align: top;\n",
       "    }\n",
       "\n",
       "    .dataframe thead th {\n",
       "        text-align: right;\n",
       "    }\n",
       "</style>\n",
       "<table border=\"1\" class=\"dataframe\">\n",
       "  <thead>\n",
       "    <tr style=\"text-align: right;\">\n",
       "      <th></th>\n",
       "      <th>Quarter</th>\n",
       "      <th>Promo_Budget</th>\n",
       "      <th>Sales</th>\n",
       "    </tr>\n",
       "  </thead>\n",
       "  <tbody>\n",
       "    <tr>\n",
       "      <th>0</th>\n",
       "      <td>1</td>\n",
       "      <td>92</td>\n",
       "      <td>150</td>\n",
       "    </tr>\n",
       "    <tr>\n",
       "      <th>1</th>\n",
       "      <td>2</td>\n",
       "      <td>90</td>\n",
       "      <td>145</td>\n",
       "    </tr>\n",
       "    <tr>\n",
       "      <th>2</th>\n",
       "      <td>3</td>\n",
       "      <td>101</td>\n",
       "      <td>159</td>\n",
       "    </tr>\n",
       "    <tr>\n",
       "      <th>3</th>\n",
       "      <td>4</td>\n",
       "      <td>117</td>\n",
       "      <td>172</td>\n",
       "    </tr>\n",
       "    <tr>\n",
       "      <th>4</th>\n",
       "      <td>5</td>\n",
       "      <td>115</td>\n",
       "      <td>163</td>\n",
       "    </tr>\n",
       "    <tr>\n",
       "      <th>5</th>\n",
       "      <td>6</td>\n",
       "      <td>106</td>\n",
       "      <td>146</td>\n",
       "    </tr>\n",
       "    <tr>\n",
       "      <th>6</th>\n",
       "      <td>7</td>\n",
       "      <td>110</td>\n",
       "      <td>155</td>\n",
       "    </tr>\n",
       "    <tr>\n",
       "      <th>7</th>\n",
       "      <td>8</td>\n",
       "      <td>119</td>\n",
       "      <td>170</td>\n",
       "    </tr>\n",
       "  </tbody>\n",
       "</table>\n",
       "</div>"
      ],
      "text/plain": [
       "   Quarter  Promo_Budget  Sales\n",
       "0        1            92    150\n",
       "1        2            90    145\n",
       "2        3           101    159\n",
       "3        4           117    172\n",
       "4        5           115    163\n",
       "5        6           106    146\n",
       "6        7           110    155\n",
       "7        8           119    170"
      ]
     },
     "execution_count": 52,
     "metadata": {},
     "output_type": "execute_result"
    }
   ],
   "source": [
    "df3 = pd.DataFrame(dict(Quarter=range(1,9,1), Promo_Budget=(92, 90, 101, 117, 115, 106, 110, 119), Sales = (150, 145, 159, 172, 163, 146, 155, 170)))\n",
    "df3"
   ]
  },
  {
   "cell_type": "code",
   "execution_count": 53,
   "id": "717d87ca",
   "metadata": {},
   "outputs": [],
   "source": [
    "# Collecting X and Y values\n",
    "X = df3[\"Promo_Budget\"].values\n",
    "Y = df3[\"Sales\"].values"
   ]
  },
  {
   "cell_type": "code",
   "execution_count": 55,
   "id": "745fdb66",
   "metadata": {},
   "outputs": [],
   "source": [
    "# mean of X and Y\n",
    "x_mean = np.mean(X)\n",
    "y_mean = np.mean(Y)"
   ]
  },
  {
   "cell_type": "code",
   "execution_count": 56,
   "id": "de816c03",
   "metadata": {},
   "outputs": [],
   "source": [
    "#total number of observations\n",
    "n = len(X)"
   ]
  },
  {
   "cell_type": "markdown",
   "id": "2532bc17",
   "metadata": {},
   "source": [
    "## We need to find the slope and intercept\n",
    "Line equation: y = a + b*x       \n",
    "Slope (b) = covariance / variance of x    \n",
    "Intercept (a) =  $\\bar y - b * \\bar x$    \n",
    "\n",
    "Covariance =\\begin{equation}\n",
    "  \\sideset{}{}\\sum_{X=1}(x_i-\\bar x)*(y_i-\\bar y) / n\n",
    "\\end{equation}    \n",
    "\n",
    "Variance = \\begin{equation}\n",
    "  \\sideset{}{}\\sum_{X=1}(x_i-\\bar x)^2 / n\n",
    "\\end{equation}"
   ]
  },
  {
   "cell_type": "code",
   "execution_count": 60,
   "id": "3935ee03",
   "metadata": {},
   "outputs": [
    {
     "name": "stdout",
     "output_type": "stream",
     "text": [
      "Slope is  0.7631731325998842\n",
      "Intercept is  76.4128546612623\n"
     ]
    }
   ],
   "source": [
    "# Using formula to calculate Slope b and Intercept a\n",
    "numer = 0\n",
    "denom = 0\n",
    "for i in range(n):\n",
    "    numer += (X[i]-x_mean)*(Y[i]-y_mean)\n",
    "    denom += (X[i]-x_mean)**2\n",
    "\n",
    "b = numer/denom   #Slope formual but both numerator and denominator has n, which gets cancelled.\n",
    "a = y_mean - b*x_mean\n",
    "\n",
    "print(\"Slope is \",b)\n",
    "print(\"Intercept is \",a)"
   ]
  },
  {
   "cell_type": "code",
   "execution_count": 75,
   "id": "18a5e924",
   "metadata": {},
   "outputs": [
    {
     "data": {
      "text/plain": [
       "82.375"
      ]
     },
     "execution_count": 75,
     "metadata": {},
     "output_type": "execute_result"
    }
   ],
   "source": [
    "#Covariance\n",
    "Cov = numer/n\n",
    "Cov"
   ]
  },
  {
   "cell_type": "code",
   "execution_count": 77,
   "id": "61ef6a67",
   "metadata": {},
   "outputs": [
    {
     "data": {
      "text/plain": [
       "107.9375"
      ]
     },
     "execution_count": 77,
     "metadata": {},
     "output_type": "execute_result"
    }
   ],
   "source": [
    "#Variance  of x\n",
    "Var_x = denom/n\n",
    "Var_x"
   ]
  },
  {
   "cell_type": "markdown",
   "id": "fc4b52d4",
   "metadata": {},
   "source": [
    "# For Forecasting use slope and Intercept\n",
    "Forecast Promo_budget for sales y = 140"
   ]
  },
  {
   "cell_type": "code",
   "execution_count": 61,
   "id": "c3d637f9",
   "metadata": {},
   "outputs": [
    {
     "name": "stdout",
     "output_type": "stream",
     "text": [
      "Required Promo_budget is  183.25709322524608\n"
     ]
    }
   ],
   "source": [
    "y1 = a + b*140\n",
    "print(\"Required Promo_budget is \", y1)"
   ]
  },
  {
   "cell_type": "code",
   "execution_count": 62,
   "id": "7ca8119e",
   "metadata": {},
   "outputs": [
    {
     "data": {
      "text/plain": [
       "<matplotlib.collections.PathCollection at 0x1cb1ecb46a0>"
      ]
     },
     "execution_count": 62,
     "metadata": {},
     "output_type": "execute_result"
    },
    {
     "data": {
      "image/png": "[encoded data removed]",
      "text/plain": [
       "<Figure size 432x288 with 1 Axes>"
      ]
     },
     "metadata": {
      "needs_background": "light"
     },
     "output_type": "display_data"
    }
   ],
   "source": [
    "plt.scatter(X,Y)"
   ]
  },
  {
   "cell_type": "markdown",
   "id": "9063a331",
   "metadata": {},
   "source": [
    "**Adding trendline**"
   ]
  },
  {
   "cell_type": "code",
   "execution_count": 71,
   "id": "59a79506",
   "metadata": {},
   "outputs": [
    {
     "data": {
      "image/png": "[encoded data removed]",
      "text/plain": [
       "<Figure size 432x288 with 1 Axes>"
      ]
     },
     "metadata": {
      "needs_background": "light"
     },
     "output_type": "display_data"
    }
   ],
   "source": [
    "plt.scatter(X,Y, label='Scatter plot')\n",
    "z = np.polyfit(X, Y, 1)   #Gives array of [slope, intercept]\n",
    "p = np.poly1d(z)\n",
    "plt.plot(X,p(X),\"r--\", label='Regression Line')\n",
    "\n",
    "plt.xlabel(\"Promo_Budget\")\n",
    "plt.ylabel(\"Sales\")\n",
    "plt.legend()\n",
    "plt.show()"
   ]
  },
  {
   "cell_type": "markdown",
   "id": "c2e1635b",
   "metadata": {},
   "source": [
    "**How good is our fit ?**   \n",
    "We look at $R^2$ value here   \n",
    "\n",
    "$R^2 = 1-\\frac {SSR}{SST}$    \n",
    "# $ = 1 - \\frac{\\sum ( y_i- \\hat y_i )^2}{\\sum ( y_i-\\bar y )^2}$     \n",
    "\n",
    "$\\hat y_i$ is value of y on trendline for corresponding x value.    \n",
    "$y_i$ is actual y value given.   \n",
    "$\\bar y$ is mean of y.    \n",
    "\n",
    "SSR = Sum of Square of Residuals    \n",
    "SST = Total Sum of Squares\n"
   ]
  },
  {
   "cell_type": "code",
   "execution_count": 74,
   "id": "aa33f8ac",
   "metadata": {},
   "outputs": [
    {
     "name": "stdout",
     "output_type": "stream",
     "text": [
      "R^2 percentage value is  67.05747925110983\n"
     ]
    }
   ],
   "source": [
    "ssr = 0\n",
    "sst = 0\n",
    "for i in range(n):\n",
    "    y_pred = a + b*X[i]\n",
    "    ssr += (Y[i]-y_pred)**2\n",
    "    sst += (Y[i]-y_mean)**2\n",
    "R2 = 1-(ssr/sst)\n",
    "print(\"R^2 percentage value is \", R2*100)"
   ]
  },
  {
   "cell_type": "markdown",
   "id": "95a9135a",
   "metadata": {},
   "source": [
    "**67.057% of the variation of y values is accounted for by the x values.**"
   ]
  },
  {
   "cell_type": "markdown",
   "id": "675cbfc3",
   "metadata": {},
   "source": [
    "*Non-linear regression   \n",
    "Multi-variate regression   \n",
    "These will be added later.*"
   ]
  },
  {
   "cell_type": "code",
   "execution_count": null,
   "id": "7c08fe25",
   "metadata": {},
   "outputs": [],
   "source": []
  },
  {
   "cell_type": "markdown",
   "id": "3ccff53f",
   "metadata": {},
   "source": [
    "# Probability"
   ]
  },
  {
   "cell_type": "markdown",
   "id": "320584b9",
   "metadata": {},
   "source": [
    "I will write few terms which you can go and glance them. These are helpful to see big picture.\n",
    "\n"
   ]
  },
  {
   "cell_type": "markdown",
   "id": "5ba5ba0a",
   "metadata": {},
   "source": [
    "1. Set\n",
    "    1. Subset, Superset, disjoint sets\n",
    "    2. Operations - Union, Intersection, minus, add\n",
    "    3. etc.\n",
    "2. Probablity\n",
    "    1. Random experiment\n",
    "    2. Outcome or Cases\n",
    "    3. Sample Space\n",
    "    3. Event -- Impossible and Certain Event\n",
    "    4. Equally likely, Bias.\n",
    "    5. Mutually Exclusive\n",
    "    6. Exhaustive\n",
    "    7. Complementary Events\n",
    "    8. Indepedent Events\n",
    "    9. Conditional Probability\n",
    "    10. Baye's Theorem\n",
    "    "
   ]
  },
  {
   "cell_type": "markdown",
   "id": "457891dc",
   "metadata": {},
   "source": [
    "## Uniform Distribution"
   ]
  },
  {
   "cell_type": "code",
   "execution_count": 79,
   "id": "f8cd2a93",
   "metadata": {},
   "outputs": [],
   "source": [
    "#Use scipy library\n",
    "import scipy.stats as stats"
   ]
  },
  {
   "cell_type": "code",
   "execution_count": 80,
   "id": "5ac76103",
   "metadata": {},
   "outputs": [],
   "source": [
    "uniform_data = stats.uniform.rvs(size=10000, #Generates 10000 values\n",
    "                                 loc=0, #From 0\n",
    "                                 scale=10) #Till 10"
   ]
  },
  {
   "cell_type": "code",
   "execution_count": 81,
   "id": "ba0e9c5e",
   "metadata": {},
   "outputs": [
    {
     "data": {
      "text/plain": [
       "<AxesSubplot:ylabel='Density'>"
      ]
     },
     "execution_count": 81,
     "metadata": {},
     "output_type": "execute_result"
    },
    {
     "data": {
      "image/png": "[encoded data removed]",
      "text/plain": [
       "<Figure size 648x648 with 1 Axes>"
      ]
     },
     "metadata": {
      "needs_background": "light"
     },
     "output_type": "display_data"
    }
   ],
   "source": [
    "pd.DataFrame(uniform_data).plot(kind='density', figsize=(9,9), xlim=(-1,11))"
   ]
  },
  {
   "cell_type": "code",
   "execution_count": 84,
   "id": "1c9600f0",
   "metadata": {},
   "outputs": [
    {
     "data": {
      "text/plain": [
       "0.25"
      ]
     },
     "execution_count": 84,
     "metadata": {},
     "output_type": "execute_result"
    }
   ],
   "source": [
    "# Cumulative distribution until x\n",
    "stats.uniform.cdf(x=2.5, #Cut-off value\n",
    "                  loc=0,scale=10)"
   ]
  },
  {
   "cell_type": "code",
   "execution_count": 83,
   "id": "a25488d5",
   "metadata": {},
   "outputs": [
    {
     "data": {
      "text/plain": [
       "1.0"
      ]
     },
     "execution_count": 83,
     "metadata": {},
     "output_type": "execute_result"
    }
   ],
   "source": [
    "stats.uniform.cdf(x=10,loc=0,scale=10)"
   ]
  },
  {
   "cell_type": "code",
   "execution_count": 85,
   "id": "b97a03b6",
   "metadata": {},
   "outputs": [
    {
     "data": {
      "text/plain": [
       "4.0"
      ]
     },
     "execution_count": 85,
     "metadata": {},
     "output_type": "execute_result"
    }
   ],
   "source": [
    "#if we want to know the cutoff value for which we have a 40% chance of drawing an observation below that value\n",
    "\n",
    "stats.uniform.ppf(q=0.4, #Probability cutoff\n",
    "                 loc=0, scale=10)"
   ]
  },
  {
   "cell_type": "markdown",
   "id": "a3d30d8a",
   "metadata": {},
   "source": [
    "## Let us solve a problem.\n",
    "Q1. Cost of manufacturing a smart phone in a particular factory in Taiwan varies UNIFORMLY between \\\\$40 to \\\\$65    \n",
    "Answer the following:     \n",
    "1. What is the probability that the manufacturing cost will be between \\\\$45 to \\\\$53?    \n",
    "2. What is the probability that the manufacturing cost will be at least \\\\$57?    \n",
    "3. What is the the benchmark cost which carries a cumulative probability of 75%?    "
   ]
  },
  {
   "cell_type": "code",
   "execution_count": 90,
   "id": "bcf9e443",
   "metadata": {},
   "outputs": [
    {
     "data": {
      "text/plain": [
       "0.32"
      ]
     },
     "execution_count": 90,
     "metadata": {},
     "output_type": "execute_result"
    }
   ],
   "source": [
    "# 1. What is the probability that the manufacturing cost will be between $45 to $53?\n",
    "\n",
    "stats.uniform.cdf(x=53,loc=40,scale=25) - stats.uniform.cdf(x=45,loc=40,scale=25)"
   ]
  },
  {
   "cell_type": "code",
   "execution_count": 92,
   "id": "ce0b0eee",
   "metadata": {},
   "outputs": [
    {
     "data": {
      "text/plain": [
       "0.31999999999999995"
      ]
     },
     "execution_count": 92,
     "metadata": {},
     "output_type": "execute_result"
    }
   ],
   "source": [
    "#2. What is the probability that the manufacturing cost will be at least $57?\n",
    "\n",
    "1-stats.uniform.cdf(x=57,loc=40,scale=25)"
   ]
  },
  {
   "cell_type": "code",
   "execution_count": 94,
   "id": "491d15fa",
   "metadata": {},
   "outputs": [
    {
     "data": {
      "text/plain": [
       "58.75"
      ]
     },
     "execution_count": 94,
     "metadata": {},
     "output_type": "execute_result"
    }
   ],
   "source": [
    "#3. What is the the benchmark cost which carries a cumulative probability of 75%?\n",
    "\n",
    "\n",
    "stats.uniform.ppf(q=0.75,loc=40, scale=25)"
   ]
  },
  {
   "cell_type": "markdown",
   "id": "7f09929d",
   "metadata": {},
   "source": [
    "## Binomial Distribution   \n",
    "\n",
    "Dicrete Probability distribution\n"
   ]
  },
  {
   "cell_type": "code",
   "execution_count": 96,
   "id": "49d1ec75",
   "metadata": {},
   "outputs": [
    {
     "name": "stdout",
     "output_type": "stream",
     "text": [
      "col_0   0   1    2     3     4     5     6     7    8   9   10\n",
      "row_0                                                         \n",
      "counts  10  95  443  1167  2087  2376  2105  1170  446  91  10\n"
     ]
    },
    {
     "data": {
      "image/png": "[encoded data removed]",
      "text/plain": [
       "<Figure size 432x288 with 1 Axes>"
      ]
     },
     "metadata": {
      "needs_background": "light"
     },
     "output_type": "display_data"
    }
   ],
   "source": [
    "# fair coin\n",
    "fair_coin_flips = stats.binom.rvs(n=10, #Number of flips per trial\n",
    "                                 p=0.5, #Success probability\n",
    "                                 size=10000)# Number of trials\n",
    "\n",
    "print( pd.crosstab(index=\"counts\", columns= fair_coin_flips))  #counts is success counts\n",
    "\n",
    "pd.DataFrame(fair_coin_flips).hist(range=(-0.5,10.5), bins=11);"
   ]
  },
  {
   "cell_type": "code",
   "execution_count": 100,
   "id": "dd49b909",
   "metadata": {},
   "outputs": [
    {
     "data": {
      "text/plain": [
       "0.623046875"
      ]
     },
     "execution_count": 100,
     "metadata": {},
     "output_type": "execute_result"
    }
   ],
   "source": [
    "#The cdf() function lets us check the probability of achieving a number of successes within a certain range\n",
    "\n",
    "stats.binom.cdf(k=5, #probability of k=5 success or less\n",
    "               n=10, #With 10 flips\n",
    "               p=0.5)#Success probability"
   ]
  },
  {
   "cell_type": "code",
   "execution_count": 111,
   "id": "e9b3de45",
   "metadata": {},
   "outputs": [
    {
     "data": {
      "text/plain": [
       "0.623046875"
      ]
     },
     "execution_count": 111,
     "metadata": {},
     "output_type": "execute_result"
    }
   ],
   "source": [
    "#probability of k=5 success or more\n",
    "p1 = 1 - stats.binom.cdf(k=4, n=10, p=0.5)\n",
    "p1"
   ]
  },
  {
   "attachments": {},
   "cell_type": "markdown",
   "id": "af78f682",
   "metadata": {},
   "source": [
    "**Let us solve a problem**    \n",
    "Q1. Suppose there is  75% probability that a penalty kick will be converted by Barcelona FC, a famous football club in Spain, irrespective\n",
    "of who takes the penalty kick. In a \"Tie-Breaker\", one team takes FIVE Penalty kicks   \n",
    "1. Probability that five goals will be scored    \n",
    "2. Probability that at least two goals will be scored   \n",
    "3. Probability that at most two goals will be scored   "
   ]
  },
  {
   "cell_type": "code",
   "execution_count": 109,
   "id": "fc589182",
   "metadata": {},
   "outputs": [
    {
     "data": {
      "text/plain": [
       "0.2373046875"
      ]
     },
     "execution_count": 109,
     "metadata": {},
     "output_type": "execute_result"
    }
   ],
   "source": [
    "#1. Probability that five goals will be scored\n",
    "stats.binom.pmf(k=5,n=5,p=0.75)"
   ]
  },
  {
   "cell_type": "code",
   "execution_count": 113,
   "id": "c261d511",
   "metadata": {},
   "outputs": [
    {
     "data": {
      "text/plain": [
       "0.984375"
      ]
     },
     "execution_count": 113,
     "metadata": {},
     "output_type": "execute_result"
    }
   ],
   "source": [
    "#2. Probability that at least two goals will be scored\n",
    "1-stats.binom.cdf(k=1,n=5,p=0.75)"
   ]
  },
  {
   "cell_type": "code",
   "execution_count": 114,
   "id": "871efbad",
   "metadata": {},
   "outputs": [
    {
     "data": {
      "text/plain": [
       "0.103515625"
      ]
     },
     "execution_count": 114,
     "metadata": {},
     "output_type": "execute_result"
    }
   ],
   "source": [
    "#3. Probability that at most two goals will be scored\n",
    "stats.binom.cdf(k=2,n=5,p=0.75)"
   ]
  },
  {
   "cell_type": "code",
   "execution_count": 115,
   "id": "3615c8c2",
   "metadata": {},
   "outputs": [
    {
     "data": {
      "text/plain": [
       "0.7470703125"
      ]
     },
     "execution_count": 115,
     "metadata": {},
     "output_type": "execute_result"
    }
   ],
   "source": [
    "#4. What is probability that between 2 and 4 goals included are scored?\n",
    "stats.binom.cdf(k=4,n=5,p=0.75)-stats.binom.cdf(k=1,n=5,p=0.75)\n"
   ]
  },
  {
   "cell_type": "code",
   "execution_count": 142,
   "id": "cf139b09",
   "metadata": {},
   "outputs": [],
   "source": [
    "exact_prob=[None]*5\n",
    "cuml_prob=[None]*5\n",
    "for i in range(6):\n",
    "    exact_prob[i] = stats.binom.pmf(k=i,n=5,p=0.75)\n",
    "    cuml_prob[i] = stats.binom.cdf(k=i,n=5,p=0.75)\n",
    "    exact_prob.append(i)\n",
    "    cuml_prob.append(i)\n"
   ]
  },
  {
   "cell_type": "code",
   "execution_count": 143,
   "id": "57b7a3d3",
   "metadata": {},
   "outputs": [
    {
     "data": {
      "text/plain": [
       "[0.0009765625,\n",
       " 0.014648437499999998,\n",
       " 0.08789062499999994,\n",
       " 0.26367187499999983,\n",
       " 0.39550781250000006,\n",
       " 0.2373046875]"
      ]
     },
     "execution_count": 143,
     "metadata": {},
     "output_type": "execute_result"
    }
   ],
   "source": [
    "exact_prob[0:6]"
   ]
  },
  {
   "cell_type": "code",
   "execution_count": 144,
   "id": "d1499b37",
   "metadata": {},
   "outputs": [
    {
     "data": {
      "text/plain": [
       "[0.0009765625, 0.015625, 0.103515625, 0.3671875, 0.7626953125, 1.0]"
      ]
     },
     "execution_count": 144,
     "metadata": {},
     "output_type": "execute_result"
    }
   ],
   "source": [
    "cuml_prob[0:6]"
   ]
  },
  {
   "cell_type": "code",
   "execution_count": 145,
   "id": "d898f4c4",
   "metadata": {},
   "outputs": [
    {
     "data": {
      "text/html": [
       "<div>\n",
       "<style scoped>\n",
       "    .dataframe tbody tr th:only-of-type {\n",
       "        vertical-align: middle;\n",
       "    }\n",
       "\n",
       "    .dataframe tbody tr th {\n",
       "        vertical-align: top;\n",
       "    }\n",
       "\n",
       "    .dataframe thead th {\n",
       "        text-align: right;\n",
       "    }\n",
       "</style>\n",
       "<table border=\"1\" class=\"dataframe\">\n",
       "  <thead>\n",
       "    <tr style=\"text-align: right;\">\n",
       "      <th></th>\n",
       "      <th>Success</th>\n",
       "      <th>exact_prob</th>\n",
       "      <th>Cumulative_prob</th>\n",
       "    </tr>\n",
       "  </thead>\n",
       "  <tbody>\n",
       "    <tr>\n",
       "      <th>0</th>\n",
       "      <td>0</td>\n",
       "      <td>0.000977</td>\n",
       "      <td>0.000977</td>\n",
       "    </tr>\n",
       "    <tr>\n",
       "      <th>1</th>\n",
       "      <td>1</td>\n",
       "      <td>0.014648</td>\n",
       "      <td>0.015625</td>\n",
       "    </tr>\n",
       "    <tr>\n",
       "      <th>2</th>\n",
       "      <td>2</td>\n",
       "      <td>0.087891</td>\n",
       "      <td>0.103516</td>\n",
       "    </tr>\n",
       "    <tr>\n",
       "      <th>3</th>\n",
       "      <td>3</td>\n",
       "      <td>0.263672</td>\n",
       "      <td>0.367188</td>\n",
       "    </tr>\n",
       "    <tr>\n",
       "      <th>4</th>\n",
       "      <td>4</td>\n",
       "      <td>0.395508</td>\n",
       "      <td>0.762695</td>\n",
       "    </tr>\n",
       "    <tr>\n",
       "      <th>5</th>\n",
       "      <td>5</td>\n",
       "      <td>0.237305</td>\n",
       "      <td>1.000000</td>\n",
       "    </tr>\n",
       "  </tbody>\n",
       "</table>\n",
       "</div>"
      ],
      "text/plain": [
       "   Success  exact_prob  Cumulative_prob\n",
       "0        0    0.000977         0.000977\n",
       "1        1    0.014648         0.015625\n",
       "2        2    0.087891         0.103516\n",
       "3        3    0.263672         0.367188\n",
       "4        4    0.395508         0.762695\n",
       "5        5    0.237305         1.000000"
      ]
     },
     "execution_count": 145,
     "metadata": {},
     "output_type": "execute_result"
    }
   ],
   "source": [
    "df4 = pd.DataFrame(dict(Success=range(6), exact_prob=exact_prob[0:6], Cumulative_prob=cuml_prob[0:6]))\n",
    "df4\n"
   ]
  },
  {
   "cell_type": "code",
   "execution_count": 154,
   "id": "4e18f8c9",
   "metadata": {},
   "outputs": [
    {
     "data": {
      "image/png": "[encoded data removed]",
      "text/plain": [
       "<Figure size 432x288 with 1 Axes>"
      ]
     },
     "metadata": {
      "needs_background": "light"
     },
     "output_type": "display_data"
    }
   ],
   "source": [
    "plt.plot(range(6), exact_prob[0:6], label='P(x)')\n",
    "plt.plot(range(6), cuml_prob[0:6], label='Cumulative Prob')\n",
    "plt.legend()\n",
    "plt.show()"
   ]
  },
  {
   "cell_type": "markdown",
   "id": "095a7fae",
   "metadata": {},
   "source": [
    "## Poisson Distribution"
   ]
  },
  {
   "cell_type": "markdown",
   "id": "466a72c9",
   "metadata": {},
   "source": [
    "**Let us solve one problem**   \n",
    "Q1. Suppose in a busy maternity center, on an average 1 baby is born in every 15 minutes\n",
    "1. Probability that no baby will be born in next one hour    \n",
    "2. Probability that at least two babies will be born in next one hour     \n",
    "3. Probability that at most two babies will be born in next one hour    \n",
    "\n",
    "mean of distribution, mu = 4"
   ]
  },
  {
   "cell_type": "code",
   "execution_count": 156,
   "id": "7cccf94f",
   "metadata": {},
   "outputs": [
    {
     "data": {
      "text/plain": [
       "0.01831563888873418"
      ]
     },
     "execution_count": 156,
     "metadata": {},
     "output_type": "execute_result"
    }
   ],
   "source": [
    "#1. Probability that no baby will be born in next one hour\n",
    "stats.poisson.pmf(k=0, mu=4)"
   ]
  },
  {
   "cell_type": "code",
   "execution_count": 157,
   "id": "1b3924ef",
   "metadata": {},
   "outputs": [
    {
     "data": {
      "text/plain": [
       "0.9084218055563291"
      ]
     },
     "execution_count": 157,
     "metadata": {},
     "output_type": "execute_result"
    }
   ],
   "source": [
    "#2. Probability that at least two babies will be born in next one hour\n",
    "1-stats.poisson.cdf(k=1,mu=4)"
   ]
  },
  {
   "cell_type": "code",
   "execution_count": 158,
   "id": "ba739a6e",
   "metadata": {},
   "outputs": [
    {
     "data": {
      "text/plain": [
       "0.23810330555354436"
      ]
     },
     "execution_count": 158,
     "metadata": {},
     "output_type": "execute_result"
    }
   ],
   "source": [
    "#3. Probability that at most two babies will be born in next one hour\n",
    "stats.poisson.cdf(k=2,mu=4)"
   ]
  },
  {
   "cell_type": "markdown",
   "id": "094967a2",
   "metadata": {},
   "source": [
    "## Normal Distribution\n",
    "\n",
    "*Mean = 0  and Standard deviation = 1*    \n",
    "\n",
    "## $f(x) = \\frac {1}{\\sigma \\sqrt {2 \\pi}}e^{\\frac{-1}{2}}\\frac{(x - \\mu)^2}{\\sigma}$    \n",
    "\n",
    "## $z = \\frac {(x-\\mu)}{\\sigma}$    \n"
   ]
  },
  {
   "cell_type": "code",
   "execution_count": 159,
   "id": "20478270",
   "metadata": {},
   "outputs": [
    {
     "data": {
      "text/plain": [
       "0.15865525393145707"
      ]
     },
     "execution_count": 159,
     "metadata": {},
     "output_type": "execute_result"
    }
   ],
   "source": [
    "stats.norm.cdf(x=-1,loc=0,scale=1)"
   ]
  },
  {
   "cell_type": "code",
   "execution_count": 161,
   "id": "39abe3b5",
   "metadata": {},
   "outputs": [
    {
     "data": {
      "text/plain": [
       "0.9772498680518208"
      ]
     },
     "execution_count": 161,
     "metadata": {},
     "output_type": "execute_result"
    }
   ],
   "source": [
    "stats.norm.cdf(x=40, #Value of x\n",
    "               loc=30, # mu\n",
    "               scale=5) #Standard deviation"
   ]
  },
  {
   "cell_type": "markdown",
   "id": "c31c5a63",
   "metadata": {},
   "source": [
    "## Let us solve one problem\n",
    "**Q1. A leading brand of Pizza Delivery service observes that the Delivery Time follows NORMAL Distrubution with a mean of\n",
    "30 minutes and a std dev of 5 minutes**   \n",
    "1. What is the probability that a particular delivery will happen within 40 minutes?     \n",
    "2. What is the probability that a particular delivery will happen between 22 to 42 minutes?     \n",
    "3. What is the probability that a particular delivery will take at least 37.5 minutes?     \n",
    "4. What is the Benchmark Delivery time within which 90% of the deliveries take place?    \n",
    "\n",
    "$\\mu = 30$   \n",
    "$\\sigma = 5$   \n"
   ]
  },
  {
   "cell_type": "code",
   "execution_count": 163,
   "id": "8b9e3574",
   "metadata": {},
   "outputs": [
    {
     "data": {
      "text/plain": [
       "0.9772498680518208"
      ]
     },
     "execution_count": 163,
     "metadata": {},
     "output_type": "execute_result"
    }
   ],
   "source": [
    "#1. What is the probability that a particular delivery will happen within 40 minutes?\n",
    "\n",
    "stats.norm.cdf(x=40, #Value of x\n",
    "               loc=30, # mu\n",
    "               scale=5) #Standard deviation"
   ]
  },
  {
   "cell_type": "code",
   "execution_count": 164,
   "id": "3925140c",
   "metadata": {},
   "outputs": [
    {
     "data": {
      "text/plain": [
       "0.9370031723758458"
      ]
     },
     "execution_count": 164,
     "metadata": {},
     "output_type": "execute_result"
    }
   ],
   "source": [
    "#2. What is the probability that a particular delivery will happen between 22 to 42 minutes?\n",
    "stats.norm.cdf(x=42,loc=30,scale=5)-stats.norm.cdf(x=22,loc=30,scale=5)\n"
   ]
  },
  {
   "cell_type": "code",
   "execution_count": 165,
   "id": "98ee62bd",
   "metadata": {},
   "outputs": [
    {
     "data": {
      "text/plain": [
       "0.06680720126885809"
      ]
     },
     "execution_count": 165,
     "metadata": {},
     "output_type": "execute_result"
    }
   ],
   "source": [
    "#3. What is the probability that a particular delivery will take at least 37.5 minutes?\n",
    "\n",
    "1-stats.norm.cdf(x=37.5,loc=30,scale=5)"
   ]
  },
  {
   "cell_type": "code",
   "execution_count": 166,
   "id": "ef33d142",
   "metadata": {},
   "outputs": [
    {
     "data": {
      "text/plain": [
       "1.2815515655446004"
      ]
     },
     "execution_count": 166,
     "metadata": {},
     "output_type": "execute_result"
    }
   ],
   "source": [
    "#4. What is the Benchmark Delivery time within which 90% of the delieveries take place?\n",
    "# we calculate z and then calculate x\n",
    "stats.norm.ppf(q=.90) #gives z value"
   ]
  },
  {
   "cell_type": "markdown",
   "id": "a09a05d8",
   "metadata": {},
   "source": [
    "$x = \\mu + z*\\sigma$ "
   ]
  },
  {
   "cell_type": "code",
   "execution_count": 168,
   "id": "ee6f123f",
   "metadata": {},
   "outputs": [
    {
     "data": {
      "text/plain": [
       "36.407757827723"
      ]
     },
     "execution_count": 168,
     "metadata": {},
     "output_type": "execute_result"
    }
   ],
   "source": [
    "30 + stats.norm.ppf(q=.90)*5   #Benchmark Delivery time in minutes"
   ]
  },
  {
   "cell_type": "markdown",
   "id": "5d638078",
   "metadata": {},
   "source": [
    "# I will be adding Inferential Statistics in coming days."
   ]
  },
  {
   "cell_type": "code",
   "execution_count": null,
   "id": "89c6d562",
   "metadata": {},
   "outputs": [],
   "source": []
  }
 ],
 "metadata": {
  "kernelspec": {
   "display_name": "Python 3 (ipykernel)",
   "language": "python",
   "name": "python3"
  },
  "language_info": {
   "codemirror_mode": {
    "name": "ipython",
    "version": 3
   },
   "file_extension": ".py",
   "mimetype": "text/x-python",
   "name": "python",
   "nbconvert_exporter": "python",
   "pygments_lexer": "ipython3",
   "version": "3.9.7"
  }
 },
 "nbformat": 4,
 "nbformat_minor": 5
}
